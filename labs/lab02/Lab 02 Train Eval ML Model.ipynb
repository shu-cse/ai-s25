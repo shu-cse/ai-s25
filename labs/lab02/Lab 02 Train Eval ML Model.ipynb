{
  "cells": [
    {
      "cell_type": "markdown",
      "id": "946d8431",
      "metadata": {
        "id": "946d8431",
        "papermill": {
          "duration": 0.011395,
          "end_time": "2023-11-14T08:40:08.983629",
          "exception": false,
          "start_time": "2023-11-14T08:40:08.972234",
          "status": "completed"
        },
        "tags": []
      },
      "source": [
        "# Lab 02: Training and Evaluating a ML Model. \n",
        "\n",
        "After completing these exercises, you should be able to:\n",
        "\n",
        "* Identify the components of an ML annotation project\n",
        "* Split a dataset for use in a ML project\n",
        "* Run a baseline ML algorithm on gold standard data\n",
        "\n",
        "Written by: Dr. Stephen Wu\n",
        "\n",
        "References: [Titanic on Kaggle](https://www.kaggle.com/competitions/titanic)"
      ]
    },
    {
      "cell_type": "code",
      "execution_count": null,
      "id": "421f8034",
      "metadata": {
        "_cell_guid": "b1076dfc-b9ad-4769-8c92-a6c4dae69d19",
        "_uuid": "8f2839f25d086af736a60e9eeb907d3b93b6e0e5",
        "execution": {
          "iopub.execute_input": "2023-11-14T08:40:09.008601Z",
          "iopub.status.busy": "2023-11-14T08:40:09.007665Z",
          "iopub.status.idle": "2023-11-14T08:40:12.127558Z",
          "shell.execute_reply": "2023-11-14T08:40:12.126571Z"
        },
        "id": "421f8034",
        "papermill": {
          "duration": 3.135484,
          "end_time": "2023-11-14T08:40:12.130323",
          "exception": false,
          "start_time": "2023-11-14T08:40:08.994839",
          "status": "completed"
        },
        "tags": []
      },
      "outputs": [],
      "source": [
        "import numpy as np # linear algebra\n",
        "import pandas as pd # data processing, CSV file I/O (e.g. pd.read_csv)\n",
        "\n",
        "# Install scikit-learn if not already installed, and run\n",
        "%pip install scikit-learn\n",
        "import sklearn # machine learning algorithms"
      ]
    },
    {
      "cell_type": "markdown",
      "id": "b3d0c90a",
      "metadata": {
        "id": "b3d0c90a",
        "papermill": {
          "duration": 0.011496,
          "end_time": "2023-11-14T08:40:12.176161",
          "exception": false,
          "start_time": "2023-11-14T08:40:12.164665",
          "status": "completed"
        },
        "tags": []
      },
      "source": [
        "As before, we will load a dataset about who survived the Titanic disaster."
      ]
    },
    {
      "cell_type": "code",
      "execution_count": null,
      "id": "c6a6f144",
      "metadata": {
        "colab": {
          "base_uri": "https://localhost:8080/",
          "height": 556
        },
        "execution": {
          "iopub.execute_input": "2023-11-14T08:40:12.201141Z",
          "iopub.status.busy": "2023-11-14T08:40:12.200185Z",
          "iopub.status.idle": "2023-11-14T08:40:12.257442Z",
          "shell.execute_reply": "2023-11-14T08:40:12.256161Z"
        },
        "id": "c6a6f144",
        "outputId": "b044f895-4965-4fd5-eef7-9adfbe6b50a4",
        "papermill": {
          "duration": 0.072628,
          "end_time": "2023-11-14T08:40:12.260115",
          "exception": false,
          "start_time": "2023-11-14T08:40:12.187487",
          "status": "completed"
        },
        "tags": []
      },
      "outputs": [],
      "source": [
        "# Get the data from Google Drive (originally from Kaggle)\n",
        "dl_train_url = \"../lab01/train.csv\"\n",
        "dl_test_url = \"../lab01/test.csv\"\n",
        "\n",
        "train_data = pd.read_csv(dl_train_url)\n",
        "print(f\"The Dataframe (matrix) has {train_data.shape[0]} rows \"\n",
        "  + f\"and {train_data.shape[1]} columns.\\n\")\n",
        "print(\"Here's what some rows of data look like:\")\n",
        "display(train_data.head())\n"
      ]
    },
    {
      "cell_type": "markdown",
      "id": "82fafdd7",
      "metadata": {
        "id": "82fafdd7",
        "papermill": {
          "duration": 0.013759,
          "end_time": "2023-11-14T08:40:13.334097",
          "exception": false,
          "start_time": "2023-11-14T08:40:13.320338",
          "status": "completed"
        },
        "tags": []
      },
      "source": [
        "## Exercise 2.1\n",
        "Eventually, we want to _predict_ whether people `Survived` or not. What kind of an ML problem will this be? (Mark with an X)\n",
        "\n",
        "    a) Clustering\n",
        "    b) Classification\n",
        "    c) Regression\n",
        "    d) Structured Prediction\n",
        "    e) Generation"
      ]
    },
    {
      "cell_type": "markdown",
      "id": "15ccbb3e",
      "metadata": {
        "id": "15ccbb3e",
        "papermill": {
          "duration": 0.013487,
          "end_time": "2023-11-14T08:40:13.790535",
          "exception": false,
          "start_time": "2023-11-14T08:40:13.777048",
          "status": "completed"
        },
        "tags": []
      },
      "source": [
        "## Exercise 2.2: Train & Evaluate an ML model\n",
        "We'd like to evaluate how well a _baseline_ ML works. Here, we'll prepare all the data and then evaluate on a popular algorithm called a Random Forest. (Out of scope, but here's an [article](https://www.section.io/engineering-education/introduction-to-random-forest-in-machine-learning/) and a [video](https://youtu.be/v6VJ2RO66Ag?si=2PD6JQjg1LbPljAi) about Random Forests.)\n",
        "\n",
        "The Titanic data has a pre-defined train-test split -- `test.csv` being separate from `train.csv`. (In real life, we would need to create this split ourselves.) We will only evaluate `test_data` at the very end.\n"
      ]
    },
    {
      "cell_type": "code",
      "execution_count": null,
      "id": "870580b0",
      "metadata": {
        "colab": {
          "base_uri": "https://localhost:8080/"
        },
        "execution": {
          "iopub.execute_input": "2023-11-14T08:40:13.821894Z",
          "iopub.status.busy": "2023-11-14T08:40:13.820553Z",
          "iopub.status.idle": "2023-11-14T08:40:13.842658Z",
          "shell.execute_reply": "2023-11-14T08:40:13.840467Z"
        },
        "id": "870580b0",
        "outputId": "4b20ec6e-c2dc-427c-b838-d05461a99483",
        "papermill": {
          "duration": 0.041915,
          "end_time": "2023-11-14T08:40:13.846395",
          "exception": false,
          "start_time": "2023-11-14T08:40:13.804480",
          "status": "completed"
        },
        "tags": []
      },
      "outputs": [],
      "source": [
        "# Load held-out test data now, but don't use it until the end\n",
        "test_data = pd.read_csv(dl_test_url)\n",
        "\n",
        "def print_relative_size_of_datasets(df1, df2):\n",
        "  num_train_samples = df1.shape[0]\n",
        "  num_test_samples = df2.shape[0]\n",
        "  tot_samples = num_train_samples + num_test_samples\n",
        "  print(f\"The first dataset has {num_train_samples} samples \"\\\n",
        "        + f\"while the second dataset has {num_test_samples}; a \")\n",
        "  print(f\"{num_train_samples/tot_samples*100:.2f}\"\\\n",
        "        + f\"/{num_test_samples/tot_samples*100:.2f}\"\\\n",
        "        + f\" split of the data.\")\n",
        "\n",
        "print_relative_size_of_datasets(train_data, test_data)"
      ]
    },
    {
      "cell_type": "markdown",
      "id": "d29bd740",
      "metadata": {
        "id": "d29bd740",
        "papermill": {
          "duration": 0.012803,
          "end_time": "2023-11-14T08:40:13.873433",
          "exception": false,
          "start_time": "2023-11-14T08:40:13.860630",
          "status": "completed"
        },
        "tags": []
      },
      "source": [
        "But not all of the data is clean. Let's look for missing values: `NaN` values."
      ]
    },
    {
      "cell_type": "code",
      "execution_count": null,
      "id": "1edac9a8",
      "metadata": {
        "colab": {
          "base_uri": "https://localhost:8080/"
        },
        "execution": {
          "iopub.execute_input": "2023-11-14T08:40:13.904620Z",
          "iopub.status.busy": "2023-11-14T08:40:13.904156Z",
          "iopub.status.idle": "2023-11-14T08:40:13.915104Z",
          "shell.execute_reply": "2023-11-14T08:40:13.913552Z"
        },
        "id": "1edac9a8",
        "outputId": "aee66c24-6ea3-4265-9d6a-ec0f1cf105d8",
        "papermill": {
          "duration": 0.029637,
          "end_time": "2023-11-14T08:40:13.917513",
          "exception": false,
          "start_time": "2023-11-14T08:40:13.887876",
          "status": "completed"
        },
        "tags": []
      },
      "outputs": [],
      "source": [
        "train_data.isna().sum()\n",
        "display(train_data)"
      ]
    },
    {
      "cell_type": "markdown",
      "id": "39467d62",
      "metadata": {
        "id": "39467d62",
        "papermill": {
          "duration": 0.013948,
          "end_time": "2023-11-14T08:40:13.945382",
          "exception": false,
          "start_time": "2023-11-14T08:40:13.931434",
          "status": "completed"
        },
        "tags": []
      },
      "source": [
        "Let's do a little quick-and-dirty processing to get rid of `NaNs` (not optimal because it'd be best to consider each variable one at a time) and throw away some columns that probably won't help in the classification (they're completely unique for each passenger)."
      ]
    },
    {
      "cell_type": "code",
      "execution_count": null,
      "id": "3dc96ac5",
      "metadata": {
        "colab": {
          "base_uri": "https://localhost:8080/",
          "height": 226
        },
        "execution": {
          "iopub.execute_input": "2023-11-14T08:40:13.976757Z",
          "iopub.status.busy": "2023-11-14T08:40:13.975209Z",
          "iopub.status.idle": "2023-11-14T08:40:14.005343Z",
          "shell.execute_reply": "2023-11-14T08:40:14.004066Z"
        },
        "id": "3dc96ac5",
        "outputId": "a2fb7a91-7d6a-4e4e-8700-380d5c90112d",
        "papermill": {
          "duration": 0.049984,
          "end_time": "2023-11-14T08:40:14.008734",
          "exception": false,
          "start_time": "2023-11-14T08:40:13.958750",
          "status": "completed"
        },
        "tags": []
      },
      "outputs": [],
      "source": [
        "# Forward-fill to eliminate NaNs\n",
        "train_data = train_data.fillna(method='ffill')\n",
        "test_data = test_data.fillna(method='ffill')\n",
        "\n",
        "# Drop some variables that probably won't be useful\n",
        "train_data = train_data.drop(['Name', 'Ticket', 'Cabin'], axis=1)\n",
        "test_data = test_data.drop(['Name', 'Ticket', 'Cabin'], axis=1)\n",
        "\n",
        "display(train_data.head())"
      ]
    },
    {
      "cell_type": "markdown",
      "id": "3c536dc0",
      "metadata": {
        "id": "3c536dc0",
        "papermill": {
          "duration": 0.013158,
          "end_time": "2023-11-14T08:40:14.035590",
          "exception": false,
          "start_time": "2023-11-14T08:40:14.022432",
          "status": "completed"
        },
        "tags": []
      },
      "source": [
        "## Data Splitting\n",
        "In the meantime, we'll split the training dataset again, into a training and development/validation set. (Remember that we need a validation set so that we can set _hyperparameters_ before running an algorithm on the test data.)\n",
        "\n",
        "We'll use the classic ML library `sklearn` for a utility to help us do this."
      ]
    },
    {
      "cell_type": "code",
      "execution_count": null,
      "id": "cbd3e722",
      "metadata": {
        "colab": {
          "base_uri": "https://localhost:8080/",
          "height": 157
        },
        "execution": {
          "iopub.execute_input": "2023-11-14T08:40:14.066756Z",
          "iopub.status.busy": "2023-11-14T08:40:14.066305Z",
          "iopub.status.idle": "2023-11-14T08:40:14.442019Z",
          "shell.execute_reply": "2023-11-14T08:40:14.440728Z"
        },
        "id": "cbd3e722",
        "outputId": "afddaa9e-8605-409b-a6b4-c490d22d07f2",
        "papermill": {
          "duration": 0.394005,
          "end_time": "2023-11-14T08:40:14.444607",
          "exception": false,
          "start_time": "2023-11-14T08:40:14.050602",
          "status": "completed"
        },
        "tags": []
      },
      "outputs": [],
      "source": [
        "from sklearn.model_selection import ShuffleSplit\n",
        "\n",
        "# Get indices for a split\n",
        "split = ShuffleSplit(n_splits = 1, test_size = 0.2)\n",
        "# Iterate through (only 1) split, setting train/val data\n",
        "for train_indices, test_indicices in split.split(train_data):\n",
        "    train_set = train_data.loc[train_indices]\n",
        "    val_set = train_data.loc[test_indicices]\n",
        "\n",
        "display(train_set['Pclass'].value_counts() / train_set.shape[0] * 100)\n",
        "display(val_set['Pclass'].value_counts() / val_set.shape[0] * 100)"
      ]
    },
    {
      "cell_type": "markdown",
      "id": "424f6d56",
      "metadata": {
        "id": "424f6d56",
        "papermill": {
          "duration": 0.015597,
          "end_time": "2023-11-14T08:40:14.475239",
          "exception": false,
          "start_time": "2023-11-14T08:40:14.459642",
          "status": "completed"
        },
        "tags": []
      },
      "source": [
        "## Assignment 2a: Stratified sampling\n",
        "If, for example, your training data is 70% men and 30% women, but your test data is 80% women and 20% men, your ML model may not perform well on the test. This is called _sampling bias_. To help with this problem, we can try _stratifying_ the data according to variables of interest (e.g., `Sex`). This ensures both training and validation have similar distributions of the 'Survived', 'Pclass', and 'Sex' features for unbiased model evaluation.\n",
        "\n",
        "* Write an alternative split, stratifying the split according to 'Survived', 'PClass', and 'Sex'. Save the output as `strat_train_set` and `strat_val_set`. (Hint: pass in the columns you want to stratify via `y` in `StratifiedShuffleSplit`'s [`split()`](https://scikit-learn.org/stable/modules/generated/sklearn.model_selection.StratifiedShuffleSplit.html#sklearn.model_selection.StratifiedShuffleSplit.split).)\n",
        "* Verify that the percent of samples in each 'Pclass' value and `Sex` value are the same in `strat_train_set` and `strat_val_set`. (Hint: use Dataframe's `value_counts()` method.)"
      ]
    },
    {
      "cell_type": "code",
      "execution_count": null,
      "id": "cffe6269",
      "metadata": {
        "colab": {
          "base_uri": "https://localhost:8080/",
          "height": 157
        },
        "execution": {
          "iopub.execute_input": "2023-11-14T08:40:14.506824Z",
          "iopub.status.busy": "2023-11-14T08:40:14.506266Z",
          "iopub.status.idle": "2023-11-14T08:40:14.541498Z",
          "shell.execute_reply": "2023-11-14T08:40:14.539961Z"
        },
        "id": "cffe6269",
        "outputId": "51ddf91f-23b3-4a43-bcc2-28c4ec924502",
        "papermill": {
          "duration": 0.055031,
          "end_time": "2023-11-14T08:40:14.544361",
          "exception": false,
          "start_time": "2023-11-14T08:40:14.489330",
          "status": "completed"
        },
        "tags": []
      },
      "outputs": [],
      "source": [
        "# <YOUR CODE HERE>\n",
        "\n"
      ]
    },
    {
      "cell_type": "markdown",
      "id": "1028d425",
      "metadata": {
        "id": "1028d425",
        "papermill": {
          "duration": 0.014607,
          "end_time": "2023-11-14T08:40:14.575175",
          "exception": false,
          "start_time": "2023-11-14T08:40:14.560568",
          "status": "completed"
        },
        "tags": []
      },
      "source": [
        "## Establishing a baseline\n",
        "Besides splitting the data, we need a few more steps of data preparation before our machine learning algorithm can work.\n",
        "\n",
        "1. We can get rid of columns that are unlikely to contribute to the predictions: see `.drop()` below.\n",
        "2. We need to transform string data into categorical/numerical values (for the way some machine learning algorithms are optimized): see `pd.get_dummies()` below.\n",
        "\n",
        "How to do this more reliably is another issue; for now, here are quick and dirty ways to do these.\n"
      ]
    },
    {
      "cell_type": "code",
      "execution_count": null,
      "id": "b57cafc1",
      "metadata": {
        "colab": {
          "base_uri": "https://localhost:8080/",
          "height": 226
        },
        "execution": {
          "iopub.execute_input": "2023-11-14T08:40:14.606362Z",
          "iopub.status.busy": "2023-11-14T08:40:14.605912Z",
          "iopub.status.idle": "2023-11-14T08:40:14.636597Z",
          "shell.execute_reply": "2023-11-14T08:40:14.635182Z"
        },
        "id": "b57cafc1",
        "outputId": "268e5d0c-9187-46e7-d099-2282ad46eb35",
        "papermill": {
          "duration": 0.049488,
          "end_time": "2023-11-14T08:40:14.639412",
          "exception": false,
          "start_time": "2023-11-14T08:40:14.589924",
          "status": "completed"
        },
        "tags": []
      },
      "outputs": [],
      "source": [
        "X_train = pd.get_dummies(train_set.drop([\"Survived\"], axis=1))\n",
        "y_train = train_set[\"Survived\"]\n",
        "\n",
        "X_val = pd.get_dummies(val_set.drop([\"Survived\"], axis=1))\n",
        "y_val = val_set[\"Survived\"]\n",
        "\n",
        "display(X_train.head())"
      ]
    },
    {
      "cell_type": "markdown",
      "id": "548feccb",
      "metadata": {
        "id": "548feccb",
        "papermill": {
          "duration": 0.015102,
          "end_time": "2023-11-14T08:40:14.669251",
          "exception": false,
          "start_time": "2023-11-14T08:40:14.654149",
          "status": "completed"
        },
        "tags": []
      },
      "source": [
        "We'll use a Random Forest with some pre-chosen settings as our baseline to classify between `Survived=0` and `Survived=1`."
      ]
    },
    {
      "cell_type": "code",
      "execution_count": null,
      "id": "7ee3172b",
      "metadata": {
        "colab": {
          "base_uri": "https://localhost:8080/"
        },
        "execution": {
          "iopub.execute_input": "2023-11-14T08:40:14.769855Z",
          "iopub.status.busy": "2023-11-14T08:40:14.769247Z",
          "iopub.status.idle": "2023-11-14T08:40:15.518440Z",
          "shell.execute_reply": "2023-11-14T08:40:15.516960Z"
        },
        "id": "7ee3172b",
        "outputId": "17647483-c95c-4925-9821-0b3e926fa714",
        "papermill": {
          "duration": 0.767894,
          "end_time": "2023-11-14T08:40:15.521143",
          "exception": false,
          "start_time": "2023-11-14T08:40:14.753249",
          "status": "completed"
        },
        "tags": []
      },
      "outputs": [],
      "source": [
        "from sklearn.ensemble import RandomForestClassifier\n",
        "clf = RandomForestClassifier(\n",
        "    n_estimators=100, max_depth=5, random_state=1)\n",
        "\n",
        "clf.fit(X_train, y_train)\n",
        "acc = clf.score(X_val, y_val)\n",
        "\n",
        "print(f\"Your {clf.__class__.__name__} predicts 'Survived'\")\n",
        "print(f\" with an validation set accuracy of {acc*100:.2f}\")"
      ]
    },
    {
      "cell_type": "markdown",
      "id": "ce826cd8",
      "metadata": {
        "id": "ce826cd8",
        "papermill": {
          "duration": 0.014683,
          "end_time": "2023-11-14T08:40:15.551095",
          "exception": false,
          "start_time": "2023-11-14T08:40:15.536412",
          "status": "completed"
        },
        "tags": []
      },
      "source": [
        "Congratulations! You've trained and run your first ML algorithm!"
      ]
    },
    {
      "cell_type": "markdown",
      "id": "30fd1f0f",
      "metadata": {
        "id": "30fd1f0f",
        "papermill": {
          "duration": 0.014187,
          "end_time": "2023-11-14T08:40:15.579873",
          "exception": false,
          "start_time": "2023-11-14T08:40:15.565686",
          "status": "completed"
        },
        "tags": []
      },
      "source": [
        "## Assignment 2b: Evaluation practice\n",
        "Now that we have a working ML classifier, let's look at the evaluation environment.\n",
        "\n",
        "* ML algorithms often give different answers even with the same parameters. Write a loop that trains the same type of classifier 5 times and averages the scores. (Hint: vary or remove `random_state`.)\n",
        "* ML algorithms have lots of options. Today, we're not focusing on what those options mean, but on how to test between them. Write a loop or other function that tests out the hyperparameters (options) for [`RandomForestClassifier`](https://scikit-learn.org/stable/modules/generated/sklearn.ensemble.RandomForestClassifier.html#sklearn.ensemble.RandomForestClassifier): `n_estimators` and `max_depth`. Which values for each option give the best (averaged over 5) results?"
      ]
    },
    {
      "cell_type": "code",
      "execution_count": null,
      "id": "f96d7748",
      "metadata": {
        "execution": {
          "iopub.execute_input": "2023-11-14T08:40:15.612639Z",
          "iopub.status.busy": "2023-11-14T08:40:15.612225Z",
          "iopub.status.idle": "2023-11-14T08:40:20.029628Z",
          "shell.execute_reply": "2023-11-14T08:40:20.027831Z"
        },
        "id": "f96d7748",
        "papermill": {
          "duration": 4.437299,
          "end_time": "2023-11-14T08:40:20.032618",
          "exception": false,
          "start_time": "2023-11-14T08:40:15.595319",
          "status": "completed"
        },
        "tags": []
      },
      "outputs": [],
      "source": [
        "# <YOUR CODE HERE>\n",
        "\n",
        "\n"
      ]
    },
    {
      "cell_type": "code",
      "execution_count": null,
      "id": "d292dc38",
      "metadata": {
        "execution": {
          "iopub.execute_input": "2023-11-14T08:40:20.065103Z",
          "iopub.status.busy": "2023-11-14T08:40:20.064606Z",
          "iopub.status.idle": "2023-11-14T08:40:20.074494Z",
          "shell.execute_reply": "2023-11-14T08:40:20.073062Z"
        },
        "id": "d292dc38",
        "papermill": {
          "duration": 0.029989,
          "end_time": "2023-11-14T08:40:20.077446",
          "exception": false,
          "start_time": "2023-11-14T08:40:20.047457",
          "status": "completed"
        },
        "tags": []
      },
      "outputs": [],
      "source": [
        "average_scores"
      ]
    },
    {
      "cell_type": "markdown",
      "id": "80742d10",
      "metadata": {
        "id": "80742d10",
        "papermill": {
          "duration": 0.014505,
          "end_time": "2023-11-14T08:40:20.107678",
          "exception": false,
          "start_time": "2023-11-14T08:40:20.093173",
          "status": "completed"
        },
        "tags": []
      },
      "source": [
        "### Extra: Cross-validation\n",
        "Cross-validation on a training set can be very helpful for finding the best values. In `sklearn` you can do this with less code.\n",
        "\n",
        "Use [`GridSearchCV`](https://scikit-learn.org/stable/modules/generated/sklearn.model_selection.GridSearchCV.html#sklearn.model_selection.GridSearchCV) and/or [`RandomizedSearchCV`](https://scikit-learn.org/stable/modules/generated/sklearn.model_selection.RandomizedSearchCV.html#sklearn.model_selection.RandomizedSearchCV) to find the best values for hyperparameters."
      ]
    },
    {
      "cell_type": "code",
      "execution_count": null,
      "id": "1b425ded",
      "metadata": {
        "execution": {
          "iopub.execute_input": "2023-11-14T08:40:20.139620Z",
          "iopub.status.busy": "2023-11-14T08:40:20.139206Z",
          "iopub.status.idle": "2023-11-14T08:41:08.618206Z",
          "shell.execute_reply": "2023-11-14T08:41:08.617158Z"
        },
        "id": "1b425ded",
        "papermill": {
          "duration": 48.514994,
          "end_time": "2023-11-14T08:41:08.637594",
          "exception": false,
          "start_time": "2023-11-14T08:40:20.122600",
          "status": "completed"
        },
        "tags": []
      },
      "outputs": [],
      "source": [
        "# <YOUR CODE HERE>\n",
        "\n"
      ]
    },
    {
      "cell_type": "code",
      "execution_count": null,
      "id": "36259254",
      "metadata": {
        "execution": {
          "iopub.execute_input": "2023-11-14T08:41:08.670741Z",
          "iopub.status.busy": "2023-11-14T08:41:08.670043Z",
          "iopub.status.idle": "2023-11-14T08:41:08.691390Z",
          "shell.execute_reply": "2023-11-14T08:41:08.689203Z"
        },
        "id": "36259254",
        "papermill": {
          "duration": 0.042274,
          "end_time": "2023-11-14T08:41:08.694711",
          "exception": false,
          "start_time": "2023-11-14T08:41:08.652437",
          "status": "completed"
        },
        "tags": []
      },
      "outputs": [],
      "source": [
        "final_clf = grid_search.best_estimator_\n",
        "final_clf.score(X_val,y_val)"
      ]
    },
    {
      "cell_type": "markdown",
      "id": "3e614bae",
      "metadata": {
        "id": "3e614bae",
        "papermill": {
          "duration": 0.014682,
          "end_time": "2023-11-14T08:41:08.724897",
          "exception": false,
          "start_time": "2023-11-14T08:41:08.710215",
          "status": "completed"
        },
        "tags": []
      },
      "source": [
        "# Extra: Held-out data evaluation on Kaggle\n",
        "The Titanic data can actually be tested further on held-out data, which does not have gold standard labels (`Survived` = 0 or 1). To do this:\n",
        "\n",
        "* Download this Jupyter notebook\n",
        "* Sign up for [kaggle.com](https://www.kaggle.com)\n",
        "* Visit the page for the [Titanic competition](https://www.kaggle.com/competitions/titanic), from which we borrowed this data and problem setting, and sign up to participate\n",
        "* Upload this Jupyter notebook (Note: Kaggle has a native Jupyter notebook editor that's very similar to Google Colab)\n",
        "* Change the input files to point to local competition files (i.e., `\"/kaggle/input/titanic/train.csv\"` and `\"/kaggle/input/titanic/test.csv\"`)\n",
        "* Create the output file `submission.csv` below, and then click \"Submit\" to _run all the cells in the Notebook_, _re-create_ `submission.csv`, and submit that for scoring on the Competition's leaderboard."
      ]
    },
    {
      "cell_type": "code",
      "execution_count": null,
      "id": "b922b2c6",
      "metadata": {
        "execution": {
          "iopub.execute_input": "2023-11-14T08:41:08.757599Z",
          "iopub.status.busy": "2023-11-14T08:41:08.756910Z",
          "iopub.status.idle": "2023-11-14T08:41:08.788129Z",
          "shell.execute_reply": "2023-11-14T08:41:08.786634Z"
        },
        "id": "b922b2c6",
        "papermill": {
          "duration": 0.051217,
          "end_time": "2023-11-14T08:41:08.791115",
          "exception": false,
          "start_time": "2023-11-14T08:41:08.739898",
          "status": "completed"
        },
        "tags": []
      },
      "outputs": [],
      "source": [
        "model = clf # use the baseline Random Forest or replace with Assignment 3\n",
        "X_test = pd.get_dummies(test_data) # clean the test data in the same way as train\n",
        "\n",
        "predictions = model.predict(X_test)\n",
        "\n",
        "output = pd.DataFrame({'PassengerId': test_data.PassengerId, 'Survived': predictions})\n",
        "output.to_csv('submission.csv', index=False)\n",
        "print(\"Your submission was successfully saved!\")"
      ]
    },
    {
      "cell_type": "markdown",
      "id": "23a45105",
      "metadata": {
        "id": "23a45105",
        "papermill": {
          "duration": 0.016129,
          "end_time": "2023-11-14T08:41:08.822730",
          "exception": false,
          "start_time": "2023-11-14T08:41:08.806601",
          "status": "completed"
        },
        "tags": []
      },
      "source": [
        "Now click on the 3 vertical dots for options,  to your Kaggle page and go to `Submit to competition` and click on `Submit`.\n",
        "\n",
        "You've finished your first Kaggle submission! Check your `Score`, and then keep on learning how to code AI!"
      ]
    },
    {
      "cell_type": "markdown",
      "id": "xe5SQqbskXtq",
      "metadata": {
        "id": "xe5SQqbskXtq"
      },
      "source": [
        "# Solutions\n",
        "The solutions for this notebook can be found [here](https://colab.research.google.com/drive/13mV9dGzf4HIQh97zt6uFZOx5crDt1J1P?usp=sharing)."
      ]
    }
  ],
  "metadata": {
    "colab": {
      "provenance": [],
      "toc_visible": true
    },
    "kernelspec": {
      "display_name": "Python 3",
      "language": "python",
      "name": "python3"
    },
    "language_info": {
      "codemirror_mode": {
        "name": "ipython",
        "version": 3
      },
      "file_extension": ".py",
      "mimetype": "text/x-python",
      "name": "python",
      "nbconvert_exporter": "python",
      "pygments_lexer": "ipython3",
      "version": "3.9.5"
    },
    "papermill": {
      "default_parameters": {},
      "duration": 65.391415,
      "end_time": "2023-11-14T08:41:09.560267",
      "environment_variables": {},
      "exception": null,
      "input_path": "__notebook__.ipynb",
      "output_path": "__notebook__.ipynb",
      "parameters": {},
      "start_time": "2023-11-14T08:40:04.168852",
      "version": "2.4.0"
    }
  },
  "nbformat": 4,
  "nbformat_minor": 5
}
