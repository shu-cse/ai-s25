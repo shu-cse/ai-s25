{
  "cells": [
    {
      "cell_type": "markdown",
      "id": "946d8431",
      "metadata": {
        "papermill": {
          "duration": 0.011395,
          "end_time": "2023-11-14T08:40:08.983629",
          "exception": false,
          "start_time": "2023-11-14T08:40:08.972234",
          "status": "completed"
        },
        "tags": [],
        "id": "946d8431"
      },
      "source": [
        "Welcome to Tibyan AI's **Intro to AI with Google Colab** training workshop, organized by Google Developer Groups - Benghazi. This Jupyter Notebook is an interactive companion to the slides provided during the lecture.\n",
        "\n",
        "After completing these exercises, you should be able to:\n",
        "\n",
        "* Load tabular data into a `pandas` dataframe\n",
        "* Manipulate and organize the data via `pandas` dataframe filtering and indexing\n",
        "* Visualize simple data in `seaborn`\n",
        "* Identify the components of an ML annotation project\n",
        "* Split a dataset for use in a ML project\n",
        "* Run a baseline ML algorithm on gold standard data\n",
        "\n",
        "Written by: Dr. Stephen Wu\n",
        "\n",
        "References: [Titanic on Kaggle](https://www.kaggle.com/competitions/titanic)"
      ]
    },
    {
      "cell_type": "code",
      "execution_count": null,
      "id": "421f8034",
      "metadata": {
        "_cell_guid": "b1076dfc-b9ad-4769-8c92-a6c4dae69d19",
        "_uuid": "8f2839f25d086af736a60e9eeb907d3b93b6e0e5",
        "execution": {
          "iopub.execute_input": "2023-11-14T08:40:09.008601Z",
          "iopub.status.busy": "2023-11-14T08:40:09.007665Z",
          "iopub.status.idle": "2023-11-14T08:40:12.127558Z",
          "shell.execute_reply": "2023-11-14T08:40:12.126571Z"
        },
        "papermill": {
          "duration": 3.135484,
          "end_time": "2023-11-14T08:40:12.130323",
          "exception": false,
          "start_time": "2023-11-14T08:40:08.994839",
          "status": "completed"
        },
        "tags": [],
        "id": "421f8034"
      },
      "outputs": [],
      "source": [
        "# This Python 3 environment comes with many helpful analytics libraries installed\n",
        "# For example, here's several helpful packages to load\n",
        "\n",
        "import numpy as np # linear algebra\n",
        "import pandas as pd # data processing, CSV file I/O (e.g. pd.read_csv)\n",
        "import matplotlib.pyplot as plt # graphing library\n",
        "import seaborn as sns # simpler graphs"
      ]
    },
    {
      "cell_type": "markdown",
      "id": "65337c7c",
      "metadata": {
        "papermill": {
          "duration": 0.011299,
          "end_time": "2023-11-14T08:40:12.153599",
          "exception": false,
          "start_time": "2023-11-14T08:40:12.142300",
          "status": "completed"
        },
        "tags": [],
        "id": "65337c7c"
      },
      "source": [
        "# Exercise 1: Collect & Visualize Data"
      ]
    },
    {
      "cell_type": "markdown",
      "id": "b3d0c90a",
      "metadata": {
        "papermill": {
          "duration": 0.011496,
          "end_time": "2023-11-14T08:40:12.176161",
          "exception": false,
          "start_time": "2023-11-14T08:40:12.164665",
          "status": "completed"
        },
        "tags": [],
        "id": "b3d0c90a"
      },
      "source": [
        "## Reading Titanic data\n",
        "\n",
        "We will load a dataset about who survived the Titanic disaster -- the one used for this Kaggle competition.\n",
        "\n",
        "Most of our analysis will be done in `pandas`. The [`read_csv`](https://pandas.pydata.org/docs/reference/api/pandas.read_csv.html) function is full-featured and very useful."
      ]
    },
    {
      "cell_type": "code",
      "execution_count": null,
      "id": "c6a6f144",
      "metadata": {
        "execution": {
          "iopub.execute_input": "2023-11-14T08:40:12.201141Z",
          "iopub.status.busy": "2023-11-14T08:40:12.200185Z",
          "iopub.status.idle": "2023-11-14T08:40:12.257442Z",
          "shell.execute_reply": "2023-11-14T08:40:12.256161Z"
        },
        "papermill": {
          "duration": 0.072628,
          "end_time": "2023-11-14T08:40:12.260115",
          "exception": false,
          "start_time": "2023-11-14T08:40:12.187487",
          "status": "completed"
        },
        "tags": [],
        "id": "c6a6f144",
        "colab": {
          "base_uri": "https://localhost:8080/",
          "height": 556
        },
        "outputId": "b044f895-4965-4fd5-eef7-9adfbe6b50a4"
      },
      "outputs": [
        {
          "output_type": "stream",
          "name": "stdout",
          "text": [
            "The Dataframe (matrix) has 891 rows and 12 columns.\n",
            "\n",
            "Here's what some rows of data look like:\n"
          ]
        },
        {
          "output_type": "display_data",
          "data": {
            "text/plain": [
              "   PassengerId  Survived  Pclass  \\\n",
              "0            1         0       3   \n",
              "1            2         1       1   \n",
              "2            3         1       3   \n",
              "3            4         1       1   \n",
              "4            5         0       3   \n",
              "\n",
              "                                                Name     Sex   Age  SibSp  \\\n",
              "0                            Braund, Mr. Owen Harris    male  22.0      1   \n",
              "1  Cumings, Mrs. John Bradley (Florence Briggs Th...  female  38.0      1   \n",
              "2                             Heikkinen, Miss. Laina  female  26.0      0   \n",
              "3       Futrelle, Mrs. Jacques Heath (Lily May Peel)  female  35.0      1   \n",
              "4                           Allen, Mr. William Henry    male  35.0      0   \n",
              "\n",
              "   Parch            Ticket     Fare Cabin Embarked  \n",
              "0      0         A/5 21171   7.2500   NaN        S  \n",
              "1      0          PC 17599  71.2833   C85        C  \n",
              "2      0  STON/O2. 3101282   7.9250   NaN        S  \n",
              "3      0            113803  53.1000  C123        S  \n",
              "4      0            373450   8.0500   NaN        S  "
            ],
            "text/html": [
              "\n",
              "  <div id=\"df-edc4865c-80b5-4073-bdfd-3d89951785d8\" class=\"colab-df-container\">\n",
              "    <div>\n",
              "<style scoped>\n",
              "    .dataframe tbody tr th:only-of-type {\n",
              "        vertical-align: middle;\n",
              "    }\n",
              "\n",
              "    .dataframe tbody tr th {\n",
              "        vertical-align: top;\n",
              "    }\n",
              "\n",
              "    .dataframe thead th {\n",
              "        text-align: right;\n",
              "    }\n",
              "</style>\n",
              "<table border=\"1\" class=\"dataframe\">\n",
              "  <thead>\n",
              "    <tr style=\"text-align: right;\">\n",
              "      <th></th>\n",
              "      <th>PassengerId</th>\n",
              "      <th>Survived</th>\n",
              "      <th>Pclass</th>\n",
              "      <th>Name</th>\n",
              "      <th>Sex</th>\n",
              "      <th>Age</th>\n",
              "      <th>SibSp</th>\n",
              "      <th>Parch</th>\n",
              "      <th>Ticket</th>\n",
              "      <th>Fare</th>\n",
              "      <th>Cabin</th>\n",
              "      <th>Embarked</th>\n",
              "    </tr>\n",
              "  </thead>\n",
              "  <tbody>\n",
              "    <tr>\n",
              "      <th>0</th>\n",
              "      <td>1</td>\n",
              "      <td>0</td>\n",
              "      <td>3</td>\n",
              "      <td>Braund, Mr. Owen Harris</td>\n",
              "      <td>male</td>\n",
              "      <td>22.0</td>\n",
              "      <td>1</td>\n",
              "      <td>0</td>\n",
              "      <td>A/5 21171</td>\n",
              "      <td>7.2500</td>\n",
              "      <td>NaN</td>\n",
              "      <td>S</td>\n",
              "    </tr>\n",
              "    <tr>\n",
              "      <th>1</th>\n",
              "      <td>2</td>\n",
              "      <td>1</td>\n",
              "      <td>1</td>\n",
              "      <td>Cumings, Mrs. John Bradley (Florence Briggs Th...</td>\n",
              "      <td>female</td>\n",
              "      <td>38.0</td>\n",
              "      <td>1</td>\n",
              "      <td>0</td>\n",
              "      <td>PC 17599</td>\n",
              "      <td>71.2833</td>\n",
              "      <td>C85</td>\n",
              "      <td>C</td>\n",
              "    </tr>\n",
              "    <tr>\n",
              "      <th>2</th>\n",
              "      <td>3</td>\n",
              "      <td>1</td>\n",
              "      <td>3</td>\n",
              "      <td>Heikkinen, Miss. Laina</td>\n",
              "      <td>female</td>\n",
              "      <td>26.0</td>\n",
              "      <td>0</td>\n",
              "      <td>0</td>\n",
              "      <td>STON/O2. 3101282</td>\n",
              "      <td>7.9250</td>\n",
              "      <td>NaN</td>\n",
              "      <td>S</td>\n",
              "    </tr>\n",
              "    <tr>\n",
              "      <th>3</th>\n",
              "      <td>4</td>\n",
              "      <td>1</td>\n",
              "      <td>1</td>\n",
              "      <td>Futrelle, Mrs. Jacques Heath (Lily May Peel)</td>\n",
              "      <td>female</td>\n",
              "      <td>35.0</td>\n",
              "      <td>1</td>\n",
              "      <td>0</td>\n",
              "      <td>113803</td>\n",
              "      <td>53.1000</td>\n",
              "      <td>C123</td>\n",
              "      <td>S</td>\n",
              "    </tr>\n",
              "    <tr>\n",
              "      <th>4</th>\n",
              "      <td>5</td>\n",
              "      <td>0</td>\n",
              "      <td>3</td>\n",
              "      <td>Allen, Mr. William Henry</td>\n",
              "      <td>male</td>\n",
              "      <td>35.0</td>\n",
              "      <td>0</td>\n",
              "      <td>0</td>\n",
              "      <td>373450</td>\n",
              "      <td>8.0500</td>\n",
              "      <td>NaN</td>\n",
              "      <td>S</td>\n",
              "    </tr>\n",
              "  </tbody>\n",
              "</table>\n",
              "</div>\n",
              "    <div class=\"colab-df-buttons\">\n",
              "\n",
              "  <div class=\"colab-df-container\">\n",
              "    <button class=\"colab-df-convert\" onclick=\"convertToInteractive('df-edc4865c-80b5-4073-bdfd-3d89951785d8')\"\n",
              "            title=\"Convert this dataframe to an interactive table.\"\n",
              "            style=\"display:none;\">\n",
              "\n",
              "  <svg xmlns=\"http://www.w3.org/2000/svg\" height=\"24px\" viewBox=\"0 -960 960 960\">\n",
              "    <path d=\"M120-120v-720h720v720H120Zm60-500h600v-160H180v160Zm220 220h160v-160H400v160Zm0 220h160v-160H400v160ZM180-400h160v-160H180v160Zm440 0h160v-160H620v160ZM180-180h160v-160H180v160Zm440 0h160v-160H620v160Z\"/>\n",
              "  </svg>\n",
              "    </button>\n",
              "\n",
              "  <style>\n",
              "    .colab-df-container {\n",
              "      display:flex;\n",
              "      gap: 12px;\n",
              "    }\n",
              "\n",
              "    .colab-df-convert {\n",
              "      background-color: #E8F0FE;\n",
              "      border: none;\n",
              "      border-radius: 50%;\n",
              "      cursor: pointer;\n",
              "      display: none;\n",
              "      fill: #1967D2;\n",
              "      height: 32px;\n",
              "      padding: 0 0 0 0;\n",
              "      width: 32px;\n",
              "    }\n",
              "\n",
              "    .colab-df-convert:hover {\n",
              "      background-color: #E2EBFA;\n",
              "      box-shadow: 0px 1px 2px rgba(60, 64, 67, 0.3), 0px 1px 3px 1px rgba(60, 64, 67, 0.15);\n",
              "      fill: #174EA6;\n",
              "    }\n",
              "\n",
              "    .colab-df-buttons div {\n",
              "      margin-bottom: 4px;\n",
              "    }\n",
              "\n",
              "    [theme=dark] .colab-df-convert {\n",
              "      background-color: #3B4455;\n",
              "      fill: #D2E3FC;\n",
              "    }\n",
              "\n",
              "    [theme=dark] .colab-df-convert:hover {\n",
              "      background-color: #434B5C;\n",
              "      box-shadow: 0px 1px 3px 1px rgba(0, 0, 0, 0.15);\n",
              "      filter: drop-shadow(0px 1px 2px rgba(0, 0, 0, 0.3));\n",
              "      fill: #FFFFFF;\n",
              "    }\n",
              "  </style>\n",
              "\n",
              "    <script>\n",
              "      const buttonEl =\n",
              "        document.querySelector('#df-edc4865c-80b5-4073-bdfd-3d89951785d8 button.colab-df-convert');\n",
              "      buttonEl.style.display =\n",
              "        google.colab.kernel.accessAllowed ? 'block' : 'none';\n",
              "\n",
              "      async function convertToInteractive(key) {\n",
              "        const element = document.querySelector('#df-edc4865c-80b5-4073-bdfd-3d89951785d8');\n",
              "        const dataTable =\n",
              "          await google.colab.kernel.invokeFunction('convertToInteractive',\n",
              "                                                    [key], {});\n",
              "        if (!dataTable) return;\n",
              "\n",
              "        const docLinkHtml = 'Like what you see? Visit the ' +\n",
              "          '<a target=\"_blank\" href=https://colab.research.google.com/notebooks/data_table.ipynb>data table notebook</a>'\n",
              "          + ' to learn more about interactive tables.';\n",
              "        element.innerHTML = '';\n",
              "        dataTable['output_type'] = 'display_data';\n",
              "        await google.colab.output.renderOutput(dataTable, element);\n",
              "        const docLink = document.createElement('div');\n",
              "        docLink.innerHTML = docLinkHtml;\n",
              "        element.appendChild(docLink);\n",
              "      }\n",
              "    </script>\n",
              "  </div>\n",
              "\n",
              "\n",
              "<div id=\"df-17ea50b4-1bf9-45f8-9a7b-653dcf66bf11\">\n",
              "  <button class=\"colab-df-quickchart\" onclick=\"quickchart('df-17ea50b4-1bf9-45f8-9a7b-653dcf66bf11')\"\n",
              "            title=\"Suggest charts\"\n",
              "            style=\"display:none;\">\n",
              "\n",
              "<svg xmlns=\"http://www.w3.org/2000/svg\" height=\"24px\"viewBox=\"0 0 24 24\"\n",
              "     width=\"24px\">\n",
              "    <g>\n",
              "        <path d=\"M19 3H5c-1.1 0-2 .9-2 2v14c0 1.1.9 2 2 2h14c1.1 0 2-.9 2-2V5c0-1.1-.9-2-2-2zM9 17H7v-7h2v7zm4 0h-2V7h2v10zm4 0h-2v-4h2v4z\"/>\n",
              "    </g>\n",
              "</svg>\n",
              "  </button>\n",
              "\n",
              "<style>\n",
              "  .colab-df-quickchart {\n",
              "      --bg-color: #E8F0FE;\n",
              "      --fill-color: #1967D2;\n",
              "      --hover-bg-color: #E2EBFA;\n",
              "      --hover-fill-color: #174EA6;\n",
              "      --disabled-fill-color: #AAA;\n",
              "      --disabled-bg-color: #DDD;\n",
              "  }\n",
              "\n",
              "  [theme=dark] .colab-df-quickchart {\n",
              "      --bg-color: #3B4455;\n",
              "      --fill-color: #D2E3FC;\n",
              "      --hover-bg-color: #434B5C;\n",
              "      --hover-fill-color: #FFFFFF;\n",
              "      --disabled-bg-color: #3B4455;\n",
              "      --disabled-fill-color: #666;\n",
              "  }\n",
              "\n",
              "  .colab-df-quickchart {\n",
              "    background-color: var(--bg-color);\n",
              "    border: none;\n",
              "    border-radius: 50%;\n",
              "    cursor: pointer;\n",
              "    display: none;\n",
              "    fill: var(--fill-color);\n",
              "    height: 32px;\n",
              "    padding: 0;\n",
              "    width: 32px;\n",
              "  }\n",
              "\n",
              "  .colab-df-quickchart:hover {\n",
              "    background-color: var(--hover-bg-color);\n",
              "    box-shadow: 0 1px 2px rgba(60, 64, 67, 0.3), 0 1px 3px 1px rgba(60, 64, 67, 0.15);\n",
              "    fill: var(--button-hover-fill-color);\n",
              "  }\n",
              "\n",
              "  .colab-df-quickchart-complete:disabled,\n",
              "  .colab-df-quickchart-complete:disabled:hover {\n",
              "    background-color: var(--disabled-bg-color);\n",
              "    fill: var(--disabled-fill-color);\n",
              "    box-shadow: none;\n",
              "  }\n",
              "\n",
              "  .colab-df-spinner {\n",
              "    border: 2px solid var(--fill-color);\n",
              "    border-color: transparent;\n",
              "    border-bottom-color: var(--fill-color);\n",
              "    animation:\n",
              "      spin 1s steps(1) infinite;\n",
              "  }\n",
              "\n",
              "  @keyframes spin {\n",
              "    0% {\n",
              "      border-color: transparent;\n",
              "      border-bottom-color: var(--fill-color);\n",
              "      border-left-color: var(--fill-color);\n",
              "    }\n",
              "    20% {\n",
              "      border-color: transparent;\n",
              "      border-left-color: var(--fill-color);\n",
              "      border-top-color: var(--fill-color);\n",
              "    }\n",
              "    30% {\n",
              "      border-color: transparent;\n",
              "      border-left-color: var(--fill-color);\n",
              "      border-top-color: var(--fill-color);\n",
              "      border-right-color: var(--fill-color);\n",
              "    }\n",
              "    40% {\n",
              "      border-color: transparent;\n",
              "      border-right-color: var(--fill-color);\n",
              "      border-top-color: var(--fill-color);\n",
              "    }\n",
              "    60% {\n",
              "      border-color: transparent;\n",
              "      border-right-color: var(--fill-color);\n",
              "    }\n",
              "    80% {\n",
              "      border-color: transparent;\n",
              "      border-right-color: var(--fill-color);\n",
              "      border-bottom-color: var(--fill-color);\n",
              "    }\n",
              "    90% {\n",
              "      border-color: transparent;\n",
              "      border-bottom-color: var(--fill-color);\n",
              "    }\n",
              "  }\n",
              "</style>\n",
              "\n",
              "  <script>\n",
              "    async function quickchart(key) {\n",
              "      const quickchartButtonEl =\n",
              "        document.querySelector('#' + key + ' button');\n",
              "      quickchartButtonEl.disabled = true;  // To prevent multiple clicks.\n",
              "      quickchartButtonEl.classList.add('colab-df-spinner');\n",
              "      try {\n",
              "        const charts = await google.colab.kernel.invokeFunction(\n",
              "            'suggestCharts', [key], {});\n",
              "      } catch (error) {\n",
              "        console.error('Error during call to suggestCharts:', error);\n",
              "      }\n",
              "      quickchartButtonEl.classList.remove('colab-df-spinner');\n",
              "      quickchartButtonEl.classList.add('colab-df-quickchart-complete');\n",
              "    }\n",
              "    (() => {\n",
              "      let quickchartButtonEl =\n",
              "        document.querySelector('#df-17ea50b4-1bf9-45f8-9a7b-653dcf66bf11 button');\n",
              "      quickchartButtonEl.style.display =\n",
              "        google.colab.kernel.accessAllowed ? 'block' : 'none';\n",
              "    })();\n",
              "  </script>\n",
              "</div>\n",
              "\n",
              "    </div>\n",
              "  </div>\n"
            ]
          },
          "metadata": {}
        }
      ],
      "source": [
        "# Get the data from Google Drive (originally from Kaggle)\n",
        "dl_train_url = \"https://drive.google.com/uc?export=download&id=1o3nOFhFtjeK_fZ8jNwgGtyfp5v0DRKs0\"\n",
        "dl_test_url = \"https://drive.google.com/uc?export=download&id=1o2VsT01BK2jOnR70y5eSOsuzr6zCXfFe\"\n",
        "\n",
        "train_data = pd.read_csv(dl_train_url)\n",
        "print(f\"The Dataframe (matrix) has {train_data.shape[0]} rows \"\n",
        "  + f\"and {train_data.shape[1]} columns.\\n\")\n",
        "print(\"Here's what some rows of data look like:\")\n",
        "display(train_data.head())\n"
      ]
    },
    {
      "cell_type": "markdown",
      "id": "cc5e781f",
      "metadata": {
        "papermill": {
          "duration": 0.011233,
          "end_time": "2023-11-14T08:40:12.283871",
          "exception": false,
          "start_time": "2023-11-14T08:40:12.272638",
          "status": "completed"
        },
        "tags": [],
        "id": "cc5e781f"
      },
      "source": [
        "## Exploring data\n",
        "We've read our comma-separated value (CSV) file into a `pandas` [Dataframe](https://pandas.pydata.org/docs/reference/api/pandas.DataFrame.html). In this case, `train_data` is a Dataframe that's shaped like a matrix. In `pandas` Dataframes, you can refer to things by their column (or row) headings as well as by index in the matrix."
      ]
    },
    {
      "cell_type": "code",
      "execution_count": null,
      "id": "1e5f5907",
      "metadata": {
        "execution": {
          "iopub.execute_input": "2023-11-14T08:40:12.308657Z",
          "iopub.status.busy": "2023-11-14T08:40:12.308230Z",
          "iopub.status.idle": "2023-11-14T08:40:12.326901Z",
          "shell.execute_reply": "2023-11-14T08:40:12.325874Z"
        },
        "papermill": {
          "duration": 0.034535,
          "end_time": "2023-11-14T08:40:12.330200",
          "exception": false,
          "start_time": "2023-11-14T08:40:12.295665",
          "status": "completed"
        },
        "tags": [],
        "id": "1e5f5907",
        "colab": {
          "base_uri": "https://localhost:8080/"
        },
        "outputId": "e258aeaa-29a3-4999-c2e7-e1a329ab54ea"
      },
      "outputs": [
        {
          "output_type": "stream",
          "name": "stdout",
          "text": [
            "Referring by index, row 2 column 8:\n",
            "STON/O2. 3101282\n",
            "\n",
            "Referring by 'Ticket' column, row 2:\n",
            "STON/O2. 3101282\n",
            "\n",
            "Selecting a column by heading 'Ticket':\n",
            "0             A/5 21171\n",
            "1              PC 17599\n",
            "2      STON/O2. 3101282\n",
            "3                113803\n",
            "4                373450\n",
            "             ...       \n",
            "886              211536\n",
            "887              112053\n",
            "888          W./C. 6607\n",
            "889              111369\n",
            "890              370376\n",
            "Name: Ticket, Length: 891, dtype: object\n",
            "\n",
            "Selecting a row by the value in 'Ticket':\n",
            "   PassengerId  Survived  Pclass                    Name     Sex   Age  SibSp  \\\n",
            "2            3         1       3  Heikkinen, Miss. Laina  female  26.0      0   \n",
            "\n",
            "   Parch            Ticket   Fare Cabin Embarked  \n",
            "2      0  STON/O2. 3101282  7.925   NaN        S  \n"
          ]
        }
      ],
      "source": [
        "# Indexing & Selection. e.g., for item 2 of the 'Ticket' (8th) column\n",
        "print(f\"Referring by index, row 2 column 8:\\n{train_data.iloc[2][8]}\\n\")\n",
        "print(f\"Referring by 'Ticket' column, row 2:\\n{train_data['Ticket'][2]}\\n\")\n",
        "\n",
        "print(f\"Selecting a column by heading 'Ticket':\\n{train_data['Ticket']}\\n\")\n",
        "\n",
        "print(\"Selecting a row by the value in 'Ticket':\")\n",
        "print(train_data.loc[train_data['Ticket'] == 'STON/O2. 3101282'])"
      ]
    },
    {
      "cell_type": "markdown",
      "id": "1589b50f",
      "metadata": {
        "papermill": {
          "duration": 0.012236,
          "end_time": "2023-11-14T08:40:12.355082",
          "exception": false,
          "start_time": "2023-11-14T08:40:12.342846",
          "status": "completed"
        },
        "tags": [],
        "id": "1589b50f"
      },
      "source": [
        "## Plotting a histogram with Seaborn\n",
        "Often, we'd like to visualize the data with specific plots. Let's try to plot the relationship between `Survived` and `Age` to see if older or younger people are more likely to survive, using a kind of bar chart called a histogram (see Seaborn documentation on [histplot](https://seaborn.pydata.org/generated/seaborn.histplot.html))."
      ]
    },
    {
      "cell_type": "code",
      "execution_count": null,
      "id": "46e83708",
      "metadata": {
        "execution": {
          "iopub.execute_input": "2023-11-14T08:40:12.382346Z",
          "iopub.status.busy": "2023-11-14T08:40:12.381551Z",
          "iopub.status.idle": "2023-11-14T08:40:12.808131Z",
          "shell.execute_reply": "2023-11-14T08:40:12.807105Z"
        },
        "papermill": {
          "duration": 0.443991,
          "end_time": "2023-11-14T08:40:12.810901",
          "exception": false,
          "start_time": "2023-11-14T08:40:12.366910",
          "status": "completed"
        },
        "tags": [],
        "id": "46e83708",
        "colab": {
          "base_uri": "https://localhost:8080/",
          "height": 469
        },
        "outputId": "c75edbc6-a16a-4d20-90c1-360e55829399"
      },
      "outputs": [
        {
          "output_type": "execute_result",
          "data": {
            "text/plain": [
              "<Axes: xlabel='Age', ylabel='Count'>"
            ]
          },
          "metadata": {},
          "execution_count": 8
        },
        {
          "output_type": "display_data",
          "data": {
            "text/plain": [
              "<Figure size 640x480 with 1 Axes>"
            ],
            "image/png": "[encoded data removed]"
          },
          "metadata": {}
        }
      ],
      "source": [
        "# Plot the original Age distribution\n",
        "sns.histplot(data=train_data, x=\"Age\", binwidth=20)"
      ]
    },
    {
      "cell_type": "code",
      "execution_count": null,
      "id": "8ef4b66a",
      "metadata": {
        "execution": {
          "iopub.execute_input": "2023-11-14T08:40:12.840386Z",
          "iopub.status.busy": "2023-11-14T08:40:12.839167Z",
          "iopub.status.idle": "2023-11-14T08:40:13.305090Z",
          "shell.execute_reply": "2023-11-14T08:40:13.303787Z"
        },
        "papermill": {
          "duration": 0.483271,
          "end_time": "2023-11-14T08:40:13.307785",
          "exception": false,
          "start_time": "2023-11-14T08:40:12.824514",
          "status": "completed"
        },
        "tags": [],
        "id": "8ef4b66a",
        "colab": {
          "base_uri": "https://localhost:8080/",
          "height": 473
        },
        "outputId": "67cdaf01-11af-49ee-ae44-1fab39ba2b19"
      },
      "outputs": [
        {
          "output_type": "execute_result",
          "data": {
            "text/plain": [
              "<Axes: xlabel='Age', ylabel='Probability'>"
            ]
          },
          "metadata": {},
          "execution_count": 9
        },
        {
          "output_type": "display_data",
          "data": {
            "text/plain": [
              "<Figure size 640x480 with 1 Axes>"
            ],
            "image/png": "[encoded data removed]"
          },
          "metadata": {}
        }
      ],
      "source": [
        "# Plot the Age distribution with survivor data overlaid\n",
        "sns.histplot(data=train_data, x=\"Age\", binwidth=10,\n",
        "             stat=\"probability\", multiple=\"fill\", hue=\"Survived\")"
      ]
    },
    {
      "cell_type": "markdown",
      "id": "82fafdd7",
      "metadata": {
        "papermill": {
          "duration": 0.013759,
          "end_time": "2023-11-14T08:40:13.334097",
          "exception": false,
          "start_time": "2023-11-14T08:40:13.320338",
          "status": "completed"
        },
        "tags": [],
        "id": "82fafdd7"
      },
      "source": [
        "## Assignment 1\n",
        "Eventually, we want to _predict_ whether people `Survived` or not. What kind of an ML problem will this be? (Mark with an X)\n",
        "\n",
        "    a) Clustering\n",
        "    b) Classification\n",
        "    c) Regression\n",
        "    d) Structured Prediction\n",
        "    e) Generation"
      ]
    },
    {
      "cell_type": "markdown",
      "id": "4db0371d",
      "metadata": {
        "papermill": {
          "duration": 0.01328,
          "end_time": "2023-11-14T08:40:13.361183",
          "exception": false,
          "start_time": "2023-11-14T08:40:13.347903",
          "status": "completed"
        },
        "tags": [],
        "id": "4db0371d"
      },
      "source": [
        "Often, we want to programmatically calculate specific statistics. Here, let's explore the relationship between the `Surivived` and `Sex` variables in the dataset. Write code to calculate (in the training set) and print the following:\n",
        "\n",
        "* What percentage of the passengers\n",
        "survived the Titanic?\n",
        "* What percentage of the survivors were women? (Select survivors first)\n",
        "* What percentage of women were survivors? (Select women first)\n",
        "* Visualize the relationship between these two variables using a stacked histogram."
      ]
    },
    {
      "cell_type": "code",
      "execution_count": null,
      "id": "85d6b762",
      "metadata": {
        "execution": {
          "iopub.execute_input": "2023-11-14T08:40:13.390371Z",
          "iopub.status.busy": "2023-11-14T08:40:13.389887Z",
          "iopub.status.idle": "2023-11-14T08:40:13.758937Z",
          "shell.execute_reply": "2023-11-14T08:40:13.757074Z"
        },
        "papermill": {
          "duration": 0.386567,
          "end_time": "2023-11-14T08:40:13.761929",
          "exception": false,
          "start_time": "2023-11-14T08:40:13.375362",
          "status": "completed"
        },
        "tags": [],
        "id": "85d6b762",
        "colab": {
          "base_uri": "https://localhost:8080/"
        },
        "outputId": "ca586eae-b1d7-430a-fec9-28069a6fcbc7"
      },
      "outputs": [
        {
          "output_type": "stream",
          "name": "stdout",
          "text": [
            "38.38383838383838\n"
          ]
        }
      ],
      "source": [
        "### Exercise 1.1(a) In the training set...\n",
        "placeholder = ''\n",
        "\n",
        "### What percentage of the passengers survived the Titanic?\n",
        "\n",
        "# <YOUR CODE HERE>\n",
        "number_of_total_passengers = train_data.shape[0]\n",
        "number_of_survivors = train_data.loc[train_data['Survived'] == 1].shape[0]\n",
        "print( number_of_survivors / number_of_total_passengers *100)\n",
        "\n",
        "### What percentage of the survivors were women? (Select survivors first)\n",
        "\n",
        "# <YOUR CODE HERE>\n",
        "\n",
        "\n",
        "### What percentage of women were survivors? (Select women first)\n",
        "\n",
        "# <YOUR CODE HERE>\n",
        "\n",
        "\n",
        "### Visualize the relationship b/t `Survived` and `Sex` via a stacked histogram\n",
        "\n",
        "# <YOUR CODE HERE>\n",
        "\n"
      ]
    },
    {
      "cell_type": "markdown",
      "id": "15ccbb3e",
      "metadata": {
        "papermill": {
          "duration": 0.013487,
          "end_time": "2023-11-14T08:40:13.790535",
          "exception": false,
          "start_time": "2023-11-14T08:40:13.777048",
          "status": "completed"
        },
        "tags": [],
        "id": "15ccbb3e"
      },
      "source": [
        "# Exercise 2: Train & Evaluate an ML model\n",
        "We'd like to evaluate how well a _baseline_ ML works. Here, we'll prepare all the data and then evaluate on a popular algorithm called a Random Forest. (Out of scope, but here's an [article](https://www.section.io/engineering-education/introduction-to-random-forest-in-machine-learning/) and a [video](https://youtu.be/v6VJ2RO66Ag?si=2PD6JQjg1LbPljAi) about Random Forests.)\n",
        "\n",
        "The Titanic data has a pre-defined train-test split -- `test.csv` being separate from `train.csv`. (In real life, we would need to create this split ourselves.) We will only evaluate `test_data` at the very end.\n"
      ]
    },
    {
      "cell_type": "code",
      "execution_count": null,
      "id": "870580b0",
      "metadata": {
        "execution": {
          "iopub.execute_input": "2023-11-14T08:40:13.821894Z",
          "iopub.status.busy": "2023-11-14T08:40:13.820553Z",
          "iopub.status.idle": "2023-11-14T08:40:13.842658Z",
          "shell.execute_reply": "2023-11-14T08:40:13.840467Z"
        },
        "papermill": {
          "duration": 0.041915,
          "end_time": "2023-11-14T08:40:13.846395",
          "exception": false,
          "start_time": "2023-11-14T08:40:13.804480",
          "status": "completed"
        },
        "tags": [],
        "id": "870580b0",
        "colab": {
          "base_uri": "https://localhost:8080/"
        },
        "outputId": "4b20ec6e-c2dc-427c-b838-d05461a99483"
      },
      "outputs": [
        {
          "output_type": "stream",
          "name": "stdout",
          "text": [
            "The first dataset has 891 samples while the second dataset has 418; a \n",
            "68.07/31.93 split of the data.\n"
          ]
        }
      ],
      "source": [
        "# Load held-out test data now, but don't use it until the end\n",
        "test_data = pd.read_csv(dl_test_url)\n",
        "\n",
        "def print_relative_size_of_datasets(df1, df2):\n",
        "  num_train_samples = df1.shape[0]\n",
        "  num_test_samples = df2.shape[0]\n",
        "  tot_samples = num_train_samples + num_test_samples\n",
        "  print(f\"The first dataset has {num_train_samples} samples \"\\\n",
        "        + f\"while the second dataset has {num_test_samples}; a \")\n",
        "  print(f\"{num_train_samples/tot_samples*100:.2f}\"\\\n",
        "        + f\"/{num_test_samples/tot_samples*100:.2f}\"\\\n",
        "        + f\" split of the data.\")\n",
        "\n",
        "print_relative_size_of_datasets(train_data, test_data)"
      ]
    },
    {
      "cell_type": "markdown",
      "id": "d29bd740",
      "metadata": {
        "papermill": {
          "duration": 0.012803,
          "end_time": "2023-11-14T08:40:13.873433",
          "exception": false,
          "start_time": "2023-11-14T08:40:13.860630",
          "status": "completed"
        },
        "tags": [],
        "id": "d29bd740"
      },
      "source": [
        "But not all of the data is clean. Let's look for missing values: `NaN` values."
      ]
    },
    {
      "cell_type": "code",
      "execution_count": null,
      "id": "1edac9a8",
      "metadata": {
        "execution": {
          "iopub.execute_input": "2023-11-14T08:40:13.904620Z",
          "iopub.status.busy": "2023-11-14T08:40:13.904156Z",
          "iopub.status.idle": "2023-11-14T08:40:13.915104Z",
          "shell.execute_reply": "2023-11-14T08:40:13.913552Z"
        },
        "papermill": {
          "duration": 0.029637,
          "end_time": "2023-11-14T08:40:13.917513",
          "exception": false,
          "start_time": "2023-11-14T08:40:13.887876",
          "status": "completed"
        },
        "tags": [],
        "id": "1edac9a8",
        "colab": {
          "base_uri": "https://localhost:8080/"
        },
        "outputId": "aee66c24-6ea3-4265-9d6a-ec0f1cf105d8"
      },
      "outputs": [
        {
          "output_type": "execute_result",
          "data": {
            "text/plain": [
              "PassengerId      0\n",
              "Survived         0\n",
              "Pclass           0\n",
              "Name             0\n",
              "Sex              0\n",
              "Age            177\n",
              "SibSp            0\n",
              "Parch            0\n",
              "Ticket           0\n",
              "Fare             0\n",
              "Cabin          687\n",
              "Embarked         2\n",
              "dtype: int64"
            ]
          },
          "metadata": {},
          "execution_count": 15
        }
      ],
      "source": [
        "train_data.isna().sum()"
      ]
    },
    {
      "cell_type": "markdown",
      "id": "39467d62",
      "metadata": {
        "papermill": {
          "duration": 0.013948,
          "end_time": "2023-11-14T08:40:13.945382",
          "exception": false,
          "start_time": "2023-11-14T08:40:13.931434",
          "status": "completed"
        },
        "tags": [],
        "id": "39467d62"
      },
      "source": [
        "Let's do a little quick-and-dirty processing to get rid of `NaNs` (not optimal because it'd be best to consider each variable one at a time) and throw away some columns that probably won't help in the classification (they're completely unique for each passenger)."
      ]
    },
    {
      "cell_type": "code",
      "execution_count": null,
      "id": "3dc96ac5",
      "metadata": {
        "execution": {
          "iopub.execute_input": "2023-11-14T08:40:13.976757Z",
          "iopub.status.busy": "2023-11-14T08:40:13.975209Z",
          "iopub.status.idle": "2023-11-14T08:40:14.005343Z",
          "shell.execute_reply": "2023-11-14T08:40:14.004066Z"
        },
        "papermill": {
          "duration": 0.049984,
          "end_time": "2023-11-14T08:40:14.008734",
          "exception": false,
          "start_time": "2023-11-14T08:40:13.958750",
          "status": "completed"
        },
        "tags": [],
        "id": "3dc96ac5",
        "colab": {
          "base_uri": "https://localhost:8080/",
          "height": 226
        },
        "outputId": "a2fb7a91-7d6a-4e4e-8700-380d5c90112d"
      },
      "outputs": [
        {
          "output_type": "display_data",
          "data": {
            "text/plain": [
              "   PassengerId  Survived  Pclass     Sex   Age  SibSp  Parch     Fare Embarked\n",
              "0            1         0       3    male  22.0      1      0   7.2500        S\n",
              "1            2         1       1  female  38.0      1      0  71.2833        C\n",
              "2            3         1       3  female  26.0      0      0   7.9250        S\n",
              "3            4         1       1  female  35.0      1      0  53.1000        S\n",
              "4            5         0       3    male  35.0      0      0   8.0500        S"
            ],
            "text/html": [
              "\n",
              "  <div id=\"df-5dc32c5c-b36a-49a2-b7b7-97ee7414d6ea\" class=\"colab-df-container\">\n",
              "    <div>\n",
              "<style scoped>\n",
              "    .dataframe tbody tr th:only-of-type {\n",
              "        vertical-align: middle;\n",
              "    }\n",
              "\n",
              "    .dataframe tbody tr th {\n",
              "        vertical-align: top;\n",
              "    }\n",
              "\n",
              "    .dataframe thead th {\n",
              "        text-align: right;\n",
              "    }\n",
              "</style>\n",
              "<table border=\"1\" class=\"dataframe\">\n",
              "  <thead>\n",
              "    <tr style=\"text-align: right;\">\n",
              "      <th></th>\n",
              "      <th>PassengerId</th>\n",
              "      <th>Survived</th>\n",
              "      <th>Pclass</th>\n",
              "      <th>Sex</th>\n",
              "      <th>Age</th>\n",
              "      <th>SibSp</th>\n",
              "      <th>Parch</th>\n",
              "      <th>Fare</th>\n",
              "      <th>Embarked</th>\n",
              "    </tr>\n",
              "  </thead>\n",
              "  <tbody>\n",
              "    <tr>\n",
              "      <th>0</th>\n",
              "      <td>1</td>\n",
              "      <td>0</td>\n",
              "      <td>3</td>\n",
              "      <td>male</td>\n",
              "      <td>22.0</td>\n",
              "      <td>1</td>\n",
              "      <td>0</td>\n",
              "      <td>7.2500</td>\n",
              "      <td>S</td>\n",
              "    </tr>\n",
              "    <tr>\n",
              "      <th>1</th>\n",
              "      <td>2</td>\n",
              "      <td>1</td>\n",
              "      <td>1</td>\n",
              "      <td>female</td>\n",
              "      <td>38.0</td>\n",
              "      <td>1</td>\n",
              "      <td>0</td>\n",
              "      <td>71.2833</td>\n",
              "      <td>C</td>\n",
              "    </tr>\n",
              "    <tr>\n",
              "      <th>2</th>\n",
              "      <td>3</td>\n",
              "      <td>1</td>\n",
              "      <td>3</td>\n",
              "      <td>female</td>\n",
              "      <td>26.0</td>\n",
              "      <td>0</td>\n",
              "      <td>0</td>\n",
              "      <td>7.9250</td>\n",
              "      <td>S</td>\n",
              "    </tr>\n",
              "    <tr>\n",
              "      <th>3</th>\n",
              "      <td>4</td>\n",
              "      <td>1</td>\n",
              "      <td>1</td>\n",
              "      <td>female</td>\n",
              "      <td>35.0</td>\n",
              "      <td>1</td>\n",
              "      <td>0</td>\n",
              "      <td>53.1000</td>\n",
              "      <td>S</td>\n",
              "    </tr>\n",
              "    <tr>\n",
              "      <th>4</th>\n",
              "      <td>5</td>\n",
              "      <td>0</td>\n",
              "      <td>3</td>\n",
              "      <td>male</td>\n",
              "      <td>35.0</td>\n",
              "      <td>0</td>\n",
              "      <td>0</td>\n",
              "      <td>8.0500</td>\n",
              "      <td>S</td>\n",
              "    </tr>\n",
              "  </tbody>\n",
              "</table>\n",
              "</div>\n",
              "    <div class=\"colab-df-buttons\">\n",
              "\n",
              "  <div class=\"colab-df-container\">\n",
              "    <button class=\"colab-df-convert\" onclick=\"convertToInteractive('df-5dc32c5c-b36a-49a2-b7b7-97ee7414d6ea')\"\n",
              "            title=\"Convert this dataframe to an interactive table.\"\n",
              "            style=\"display:none;\">\n",
              "\n",
              "  <svg xmlns=\"http://www.w3.org/2000/svg\" height=\"24px\" viewBox=\"0 -960 960 960\">\n",
              "    <path d=\"M120-120v-720h720v720H120Zm60-500h600v-160H180v160Zm220 220h160v-160H400v160Zm0 220h160v-160H400v160ZM180-400h160v-160H180v160Zm440 0h160v-160H620v160ZM180-180h160v-160H180v160Zm440 0h160v-160H620v160Z\"/>\n",
              "  </svg>\n",
              "    </button>\n",
              "\n",
              "  <style>\n",
              "    .colab-df-container {\n",
              "      display:flex;\n",
              "      gap: 12px;\n",
              "    }\n",
              "\n",
              "    .colab-df-convert {\n",
              "      background-color: #E8F0FE;\n",
              "      border: none;\n",
              "      border-radius: 50%;\n",
              "      cursor: pointer;\n",
              "      display: none;\n",
              "      fill: #1967D2;\n",
              "      height: 32px;\n",
              "      padding: 0 0 0 0;\n",
              "      width: 32px;\n",
              "    }\n",
              "\n",
              "    .colab-df-convert:hover {\n",
              "      background-color: #E2EBFA;\n",
              "      box-shadow: 0px 1px 2px rgba(60, 64, 67, 0.3), 0px 1px 3px 1px rgba(60, 64, 67, 0.15);\n",
              "      fill: #174EA6;\n",
              "    }\n",
              "\n",
              "    .colab-df-buttons div {\n",
              "      margin-bottom: 4px;\n",
              "    }\n",
              "\n",
              "    [theme=dark] .colab-df-convert {\n",
              "      background-color: #3B4455;\n",
              "      fill: #D2E3FC;\n",
              "    }\n",
              "\n",
              "    [theme=dark] .colab-df-convert:hover {\n",
              "      background-color: #434B5C;\n",
              "      box-shadow: 0px 1px 3px 1px rgba(0, 0, 0, 0.15);\n",
              "      filter: drop-shadow(0px 1px 2px rgba(0, 0, 0, 0.3));\n",
              "      fill: #FFFFFF;\n",
              "    }\n",
              "  </style>\n",
              "\n",
              "    <script>\n",
              "      const buttonEl =\n",
              "        document.querySelector('#df-5dc32c5c-b36a-49a2-b7b7-97ee7414d6ea button.colab-df-convert');\n",
              "      buttonEl.style.display =\n",
              "        google.colab.kernel.accessAllowed ? 'block' : 'none';\n",
              "\n",
              "      async function convertToInteractive(key) {\n",
              "        const element = document.querySelector('#df-5dc32c5c-b36a-49a2-b7b7-97ee7414d6ea');\n",
              "        const dataTable =\n",
              "          await google.colab.kernel.invokeFunction('convertToInteractive',\n",
              "                                                    [key], {});\n",
              "        if (!dataTable) return;\n",
              "\n",
              "        const docLinkHtml = 'Like what you see? Visit the ' +\n",
              "          '<a target=\"_blank\" href=https://colab.research.google.com/notebooks/data_table.ipynb>data table notebook</a>'\n",
              "          + ' to learn more about interactive tables.';\n",
              "        element.innerHTML = '';\n",
              "        dataTable['output_type'] = 'display_data';\n",
              "        await google.colab.output.renderOutput(dataTable, element);\n",
              "        const docLink = document.createElement('div');\n",
              "        docLink.innerHTML = docLinkHtml;\n",
              "        element.appendChild(docLink);\n",
              "      }\n",
              "    </script>\n",
              "  </div>\n",
              "\n",
              "\n",
              "<div id=\"df-e9a3e6c8-8618-44b1-abe6-6bee58178170\">\n",
              "  <button class=\"colab-df-quickchart\" onclick=\"quickchart('df-e9a3e6c8-8618-44b1-abe6-6bee58178170')\"\n",
              "            title=\"Suggest charts\"\n",
              "            style=\"display:none;\">\n",
              "\n",
              "<svg xmlns=\"http://www.w3.org/2000/svg\" height=\"24px\"viewBox=\"0 0 24 24\"\n",
              "     width=\"24px\">\n",
              "    <g>\n",
              "        <path d=\"M19 3H5c-1.1 0-2 .9-2 2v14c0 1.1.9 2 2 2h14c1.1 0 2-.9 2-2V5c0-1.1-.9-2-2-2zM9 17H7v-7h2v7zm4 0h-2V7h2v10zm4 0h-2v-4h2v4z\"/>\n",
              "    </g>\n",
              "</svg>\n",
              "  </button>\n",
              "\n",
              "<style>\n",
              "  .colab-df-quickchart {\n",
              "      --bg-color: #E8F0FE;\n",
              "      --fill-color: #1967D2;\n",
              "      --hover-bg-color: #E2EBFA;\n",
              "      --hover-fill-color: #174EA6;\n",
              "      --disabled-fill-color: #AAA;\n",
              "      --disabled-bg-color: #DDD;\n",
              "  }\n",
              "\n",
              "  [theme=dark] .colab-df-quickchart {\n",
              "      --bg-color: #3B4455;\n",
              "      --fill-color: #D2E3FC;\n",
              "      --hover-bg-color: #434B5C;\n",
              "      --hover-fill-color: #FFFFFF;\n",
              "      --disabled-bg-color: #3B4455;\n",
              "      --disabled-fill-color: #666;\n",
              "  }\n",
              "\n",
              "  .colab-df-quickchart {\n",
              "    background-color: var(--bg-color);\n",
              "    border: none;\n",
              "    border-radius: 50%;\n",
              "    cursor: pointer;\n",
              "    display: none;\n",
              "    fill: var(--fill-color);\n",
              "    height: 32px;\n",
              "    padding: 0;\n",
              "    width: 32px;\n",
              "  }\n",
              "\n",
              "  .colab-df-quickchart:hover {\n",
              "    background-color: var(--hover-bg-color);\n",
              "    box-shadow: 0 1px 2px rgba(60, 64, 67, 0.3), 0 1px 3px 1px rgba(60, 64, 67, 0.15);\n",
              "    fill: var(--button-hover-fill-color);\n",
              "  }\n",
              "\n",
              "  .colab-df-quickchart-complete:disabled,\n",
              "  .colab-df-quickchart-complete:disabled:hover {\n",
              "    background-color: var(--disabled-bg-color);\n",
              "    fill: var(--disabled-fill-color);\n",
              "    box-shadow: none;\n",
              "  }\n",
              "\n",
              "  .colab-df-spinner {\n",
              "    border: 2px solid var(--fill-color);\n",
              "    border-color: transparent;\n",
              "    border-bottom-color: var(--fill-color);\n",
              "    animation:\n",
              "      spin 1s steps(1) infinite;\n",
              "  }\n",
              "\n",
              "  @keyframes spin {\n",
              "    0% {\n",
              "      border-color: transparent;\n",
              "      border-bottom-color: var(--fill-color);\n",
              "      border-left-color: var(--fill-color);\n",
              "    }\n",
              "    20% {\n",
              "      border-color: transparent;\n",
              "      border-left-color: var(--fill-color);\n",
              "      border-top-color: var(--fill-color);\n",
              "    }\n",
              "    30% {\n",
              "      border-color: transparent;\n",
              "      border-left-color: var(--fill-color);\n",
              "      border-top-color: var(--fill-color);\n",
              "      border-right-color: var(--fill-color);\n",
              "    }\n",
              "    40% {\n",
              "      border-color: transparent;\n",
              "      border-right-color: var(--fill-color);\n",
              "      border-top-color: var(--fill-color);\n",
              "    }\n",
              "    60% {\n",
              "      border-color: transparent;\n",
              "      border-right-color: var(--fill-color);\n",
              "    }\n",
              "    80% {\n",
              "      border-color: transparent;\n",
              "      border-right-color: var(--fill-color);\n",
              "      border-bottom-color: var(--fill-color);\n",
              "    }\n",
              "    90% {\n",
              "      border-color: transparent;\n",
              "      border-bottom-color: var(--fill-color);\n",
              "    }\n",
              "  }\n",
              "</style>\n",
              "\n",
              "  <script>\n",
              "    async function quickchart(key) {\n",
              "      const quickchartButtonEl =\n",
              "        document.querySelector('#' + key + ' button');\n",
              "      quickchartButtonEl.disabled = true;  // To prevent multiple clicks.\n",
              "      quickchartButtonEl.classList.add('colab-df-spinner');\n",
              "      try {\n",
              "        const charts = await google.colab.kernel.invokeFunction(\n",
              "            'suggestCharts', [key], {});\n",
              "      } catch (error) {\n",
              "        console.error('Error during call to suggestCharts:', error);\n",
              "      }\n",
              "      quickchartButtonEl.classList.remove('colab-df-spinner');\n",
              "      quickchartButtonEl.classList.add('colab-df-quickchart-complete');\n",
              "    }\n",
              "    (() => {\n",
              "      let quickchartButtonEl =\n",
              "        document.querySelector('#df-e9a3e6c8-8618-44b1-abe6-6bee58178170 button');\n",
              "      quickchartButtonEl.style.display =\n",
              "        google.colab.kernel.accessAllowed ? 'block' : 'none';\n",
              "    })();\n",
              "  </script>\n",
              "</div>\n",
              "\n",
              "    </div>\n",
              "  </div>\n"
            ]
          },
          "metadata": {}
        }
      ],
      "source": [
        "# Forward-fill to eliminate NaNs\n",
        "train_data = train_data.fillna(method='ffill')\n",
        "test_data = test_data.fillna(method='ffill')\n",
        "\n",
        "# Drop some variables that probably won't be useful\n",
        "train_data = train_data.drop(['Name', 'Ticket', 'Cabin'], axis=1)\n",
        "test_data = test_data.drop(['Name', 'Ticket', 'Cabin'], axis=1)\n",
        "\n",
        "display(train_data.head())"
      ]
    },
    {
      "cell_type": "markdown",
      "id": "3c536dc0",
      "metadata": {
        "papermill": {
          "duration": 0.013158,
          "end_time": "2023-11-14T08:40:14.035590",
          "exception": false,
          "start_time": "2023-11-14T08:40:14.022432",
          "status": "completed"
        },
        "tags": [],
        "id": "3c536dc0"
      },
      "source": [
        "## Data Splitting\n",
        "In the meantime, we'll split the training dataset again, into a training and development/validation set. (Remember that we need a validation set so that we can set _hyperparameters_ before running an algorithm on the test data.)\n",
        "\n",
        "We'll use the classic ML library `sklearn` for a utility to help us do this."
      ]
    },
    {
      "cell_type": "code",
      "execution_count": null,
      "id": "cbd3e722",
      "metadata": {
        "execution": {
          "iopub.execute_input": "2023-11-14T08:40:14.066756Z",
          "iopub.status.busy": "2023-11-14T08:40:14.066305Z",
          "iopub.status.idle": "2023-11-14T08:40:14.442019Z",
          "shell.execute_reply": "2023-11-14T08:40:14.440728Z"
        },
        "papermill": {
          "duration": 0.394005,
          "end_time": "2023-11-14T08:40:14.444607",
          "exception": false,
          "start_time": "2023-11-14T08:40:14.050602",
          "status": "completed"
        },
        "tags": [],
        "id": "cbd3e722",
        "colab": {
          "base_uri": "https://localhost:8080/",
          "height": 157
        },
        "outputId": "afddaa9e-8605-409b-a6b4-c490d22d07f2"
      },
      "outputs": [
        {
          "output_type": "display_data",
          "data": {
            "text/plain": [
              "3    53.932584\n",
              "1    24.438202\n",
              "2    21.629213\n",
              "Name: Pclass, dtype: float64"
            ]
          },
          "metadata": {}
        },
        {
          "output_type": "display_data",
          "data": {
            "text/plain": [
              "3    59.776536\n",
              "1    23.463687\n",
              "2    16.759777\n",
              "Name: Pclass, dtype: float64"
            ]
          },
          "metadata": {}
        }
      ],
      "source": [
        "from sklearn.model_selection import ShuffleSplit\n",
        "\n",
        "# Get indices for a split\n",
        "split = ShuffleSplit(n_splits = 1, test_size = 0.2)\n",
        "# Iterate through (only 1) split, setting train/val data\n",
        "for train_indices, test_indicices in split.split(train_data):\n",
        "    train_set = train_data.loc[train_indices]\n",
        "    val_set = train_data.loc[test_indicices]\n",
        "\n",
        "display(train_set['Pclass'].value_counts() / train_set.shape[0] * 100)\n",
        "display(val_set['Pclass'].value_counts() / val_set.shape[0] * 100)"
      ]
    },
    {
      "cell_type": "markdown",
      "id": "424f6d56",
      "metadata": {
        "papermill": {
          "duration": 0.015597,
          "end_time": "2023-11-14T08:40:14.475239",
          "exception": false,
          "start_time": "2023-11-14T08:40:14.459642",
          "status": "completed"
        },
        "tags": [],
        "id": "424f6d56"
      },
      "source": [
        "## Assignment 2a: Stratified sampling\n",
        "If, for example, your training data is 70% men and 30% women, but your test data is 80% women and 20% men, your ML model may not perform well on the test. This is called _sampling bias_. To help with this problem, we can try _stratifying_ the data according to variables of interest (e.g., `Sex`). This ensures both training and validation have similar distributions of the 'Survived', 'Pclass', and 'Sex' features for unbiased model evaluation.\n",
        "\n",
        "* Write an alternative split, stratifying the split according to 'Survived', 'PClass', and 'Sex'. Save the output as `strat_train_set` and `strat_val_set`. (Hint: pass in the columns you want to stratify via `y` in `StratifiedShuffleSplit`'s [`split()`](https://scikit-learn.org/stable/modules/generated/sklearn.model_selection.StratifiedShuffleSplit.html#sklearn.model_selection.StratifiedShuffleSplit.split).)\n",
        "* Verify that the percent of samples in each 'Pclass' value and `Sex` value are the same in `strat_train_set` and `strat_val_set`. (Hint: use Dataframe's `value_counts()` method.)"
      ]
    },
    {
      "cell_type": "code",
      "execution_count": null,
      "id": "cffe6269",
      "metadata": {
        "execution": {
          "iopub.execute_input": "2023-11-14T08:40:14.506824Z",
          "iopub.status.busy": "2023-11-14T08:40:14.506266Z",
          "iopub.status.idle": "2023-11-14T08:40:14.541498Z",
          "shell.execute_reply": "2023-11-14T08:40:14.539961Z"
        },
        "papermill": {
          "duration": 0.055031,
          "end_time": "2023-11-14T08:40:14.544361",
          "exception": false,
          "start_time": "2023-11-14T08:40:14.489330",
          "status": "completed"
        },
        "tags": [],
        "id": "cffe6269",
        "colab": {
          "base_uri": "https://localhost:8080/",
          "height": 157
        },
        "outputId": "51ddf91f-23b3-4a43-bcc2-28c4ec924502"
      },
      "outputs": [
        {
          "output_type": "display_data",
          "data": {
            "text/plain": [
              "3    55.056180\n",
              "1    24.157303\n",
              "2    20.786517\n",
              "Name: Pclass, dtype: float64"
            ]
          },
          "metadata": {}
        },
        {
          "output_type": "display_data",
          "data": {
            "text/plain": [
              "3    55.307263\n",
              "1    24.581006\n",
              "2    20.111732\n",
              "Name: Pclass, dtype: float64"
            ]
          },
          "metadata": {}
        }
      ],
      "source": [
        "# <YOUR CODE HERE>\n",
        "from sklearn.model_selection import StratifiedShuffleSplit\n",
        "\n",
        "# Get indices for a split\n",
        "split = StratifiedShuffleSplit(n_splits = 1, test_size = 0.2)\n",
        "# Iterate through (only 1) split, setting train/val data\n",
        "for train_indices, test_indicices in split.split(\n",
        "    train_data, train_data[[\"Survived\", \"Pclass\", \"Sex\"]]):\n",
        "    strat_train_set = train_data.loc[train_indices]\n",
        "    strat_val_set = train_data.loc[test_indicices]\n",
        "\n",
        "display(strat_train_set['Pclass'].value_counts() / strat_train_set.shape[0] * 100)\n",
        "display(strat_val_set['Pclass'].value_counts() / strat_val_set.shape[0] * 100)\n"
      ]
    },
    {
      "cell_type": "markdown",
      "id": "1028d425",
      "metadata": {
        "papermill": {
          "duration": 0.014607,
          "end_time": "2023-11-14T08:40:14.575175",
          "exception": false,
          "start_time": "2023-11-14T08:40:14.560568",
          "status": "completed"
        },
        "tags": [],
        "id": "1028d425"
      },
      "source": [
        "## Establishing a baseline\n",
        "Besides splitting the data, we need a few more steps of data preparation before our machine learning algorithm can work.\n",
        "\n",
        "1. We can get rid of columns that are unlikely to contribute to the predictions: see `.drop()` below.\n",
        "2. We need to transform string data into categorical/numerical values (for the way some machine learning algorithms are optimized): see `pd.get_dummies()` below.\n",
        "\n",
        "How to do this more reliably is another issue; for now, here are quick and dirty ways to do these.\n"
      ]
    },
    {
      "cell_type": "code",
      "execution_count": null,
      "id": "b57cafc1",
      "metadata": {
        "execution": {
          "iopub.execute_input": "2023-11-14T08:40:14.606362Z",
          "iopub.status.busy": "2023-11-14T08:40:14.605912Z",
          "iopub.status.idle": "2023-11-14T08:40:14.636597Z",
          "shell.execute_reply": "2023-11-14T08:40:14.635182Z"
        },
        "papermill": {
          "duration": 0.049488,
          "end_time": "2023-11-14T08:40:14.639412",
          "exception": false,
          "start_time": "2023-11-14T08:40:14.589924",
          "status": "completed"
        },
        "tags": [],
        "id": "b57cafc1",
        "colab": {
          "base_uri": "https://localhost:8080/",
          "height": 226
        },
        "outputId": "268e5d0c-9187-46e7-d099-2282ad46eb35"
      },
      "outputs": [
        {
          "output_type": "display_data",
          "data": {
            "text/plain": [
              "     PassengerId  Pclass   Age  SibSp  Parch   Fare  Sex_female  Sex_male  \\\n",
              "317          318       2  54.0      0      0  14.00           0         1   \n",
              "837          838       3  21.0      0      0   8.05           0         1   \n",
              "456          457       1  65.0      0      0  26.55           0         1   \n",
              "427          428       2  19.0      0      0  26.00           1         0   \n",
              "303          304       2  19.0      0      0  12.35           1         0   \n",
              "\n",
              "     Embarked_C  Embarked_Q  Embarked_S  \n",
              "317           0           0           1  \n",
              "837           0           0           1  \n",
              "456           0           0           1  \n",
              "427           0           0           1  \n",
              "303           0           1           0  "
            ],
            "text/html": [
              "\n",
              "  <div id=\"df-4a9ed7bd-d0e8-4801-b168-70e27069075f\" class=\"colab-df-container\">\n",
              "    <div>\n",
              "<style scoped>\n",
              "    .dataframe tbody tr th:only-of-type {\n",
              "        vertical-align: middle;\n",
              "    }\n",
              "\n",
              "    .dataframe tbody tr th {\n",
              "        vertical-align: top;\n",
              "    }\n",
              "\n",
              "    .dataframe thead th {\n",
              "        text-align: right;\n",
              "    }\n",
              "</style>\n",
              "<table border=\"1\" class=\"dataframe\">\n",
              "  <thead>\n",
              "    <tr style=\"text-align: right;\">\n",
              "      <th></th>\n",
              "      <th>PassengerId</th>\n",
              "      <th>Pclass</th>\n",
              "      <th>Age</th>\n",
              "      <th>SibSp</th>\n",
              "      <th>Parch</th>\n",
              "      <th>Fare</th>\n",
              "      <th>Sex_female</th>\n",
              "      <th>Sex_male</th>\n",
              "      <th>Embarked_C</th>\n",
              "      <th>Embarked_Q</th>\n",
              "      <th>Embarked_S</th>\n",
              "    </tr>\n",
              "  </thead>\n",
              "  <tbody>\n",
              "    <tr>\n",
              "      <th>317</th>\n",
              "      <td>318</td>\n",
              "      <td>2</td>\n",
              "      <td>54.0</td>\n",
              "      <td>0</td>\n",
              "      <td>0</td>\n",
              "      <td>14.00</td>\n",
              "      <td>0</td>\n",
              "      <td>1</td>\n",
              "      <td>0</td>\n",
              "      <td>0</td>\n",
              "      <td>1</td>\n",
              "    </tr>\n",
              "    <tr>\n",
              "      <th>837</th>\n",
              "      <td>838</td>\n",
              "      <td>3</td>\n",
              "      <td>21.0</td>\n",
              "      <td>0</td>\n",
              "      <td>0</td>\n",
              "      <td>8.05</td>\n",
              "      <td>0</td>\n",
              "      <td>1</td>\n",
              "      <td>0</td>\n",
              "      <td>0</td>\n",
              "      <td>1</td>\n",
              "    </tr>\n",
              "    <tr>\n",
              "      <th>456</th>\n",
              "      <td>457</td>\n",
              "      <td>1</td>\n",
              "      <td>65.0</td>\n",
              "      <td>0</td>\n",
              "      <td>0</td>\n",
              "      <td>26.55</td>\n",
              "      <td>0</td>\n",
              "      <td>1</td>\n",
              "      <td>0</td>\n",
              "      <td>0</td>\n",
              "      <td>1</td>\n",
              "    </tr>\n",
              "    <tr>\n",
              "      <th>427</th>\n",
              "      <td>428</td>\n",
              "      <td>2</td>\n",
              "      <td>19.0</td>\n",
              "      <td>0</td>\n",
              "      <td>0</td>\n",
              "      <td>26.00</td>\n",
              "      <td>1</td>\n",
              "      <td>0</td>\n",
              "      <td>0</td>\n",
              "      <td>0</td>\n",
              "      <td>1</td>\n",
              "    </tr>\n",
              "    <tr>\n",
              "      <th>303</th>\n",
              "      <td>304</td>\n",
              "      <td>2</td>\n",
              "      <td>19.0</td>\n",
              "      <td>0</td>\n",
              "      <td>0</td>\n",
              "      <td>12.35</td>\n",
              "      <td>1</td>\n",
              "      <td>0</td>\n",
              "      <td>0</td>\n",
              "      <td>1</td>\n",
              "      <td>0</td>\n",
              "    </tr>\n",
              "  </tbody>\n",
              "</table>\n",
              "</div>\n",
              "    <div class=\"colab-df-buttons\">\n",
              "\n",
              "  <div class=\"colab-df-container\">\n",
              "    <button class=\"colab-df-convert\" onclick=\"convertToInteractive('df-4a9ed7bd-d0e8-4801-b168-70e27069075f')\"\n",
              "            title=\"Convert this dataframe to an interactive table.\"\n",
              "            style=\"display:none;\">\n",
              "\n",
              "  <svg xmlns=\"http://www.w3.org/2000/svg\" height=\"24px\" viewBox=\"0 -960 960 960\">\n",
              "    <path d=\"M120-120v-720h720v720H120Zm60-500h600v-160H180v160Zm220 220h160v-160H400v160Zm0 220h160v-160H400v160ZM180-400h160v-160H180v160Zm440 0h160v-160H620v160ZM180-180h160v-160H180v160Zm440 0h160v-160H620v160Z\"/>\n",
              "  </svg>\n",
              "    </button>\n",
              "\n",
              "  <style>\n",
              "    .colab-df-container {\n",
              "      display:flex;\n",
              "      gap: 12px;\n",
              "    }\n",
              "\n",
              "    .colab-df-convert {\n",
              "      background-color: #E8F0FE;\n",
              "      border: none;\n",
              "      border-radius: 50%;\n",
              "      cursor: pointer;\n",
              "      display: none;\n",
              "      fill: #1967D2;\n",
              "      height: 32px;\n",
              "      padding: 0 0 0 0;\n",
              "      width: 32px;\n",
              "    }\n",
              "\n",
              "    .colab-df-convert:hover {\n",
              "      background-color: #E2EBFA;\n",
              "      box-shadow: 0px 1px 2px rgba(60, 64, 67, 0.3), 0px 1px 3px 1px rgba(60, 64, 67, 0.15);\n",
              "      fill: #174EA6;\n",
              "    }\n",
              "\n",
              "    .colab-df-buttons div {\n",
              "      margin-bottom: 4px;\n",
              "    }\n",
              "\n",
              "    [theme=dark] .colab-df-convert {\n",
              "      background-color: #3B4455;\n",
              "      fill: #D2E3FC;\n",
              "    }\n",
              "\n",
              "    [theme=dark] .colab-df-convert:hover {\n",
              "      background-color: #434B5C;\n",
              "      box-shadow: 0px 1px 3px 1px rgba(0, 0, 0, 0.15);\n",
              "      filter: drop-shadow(0px 1px 2px rgba(0, 0, 0, 0.3));\n",
              "      fill: #FFFFFF;\n",
              "    }\n",
              "  </style>\n",
              "\n",
              "    <script>\n",
              "      const buttonEl =\n",
              "        document.querySelector('#df-4a9ed7bd-d0e8-4801-b168-70e27069075f button.colab-df-convert');\n",
              "      buttonEl.style.display =\n",
              "        google.colab.kernel.accessAllowed ? 'block' : 'none';\n",
              "\n",
              "      async function convertToInteractive(key) {\n",
              "        const element = document.querySelector('#df-4a9ed7bd-d0e8-4801-b168-70e27069075f');\n",
              "        const dataTable =\n",
              "          await google.colab.kernel.invokeFunction('convertToInteractive',\n",
              "                                                    [key], {});\n",
              "        if (!dataTable) return;\n",
              "\n",
              "        const docLinkHtml = 'Like what you see? Visit the ' +\n",
              "          '<a target=\"_blank\" href=https://colab.research.google.com/notebooks/data_table.ipynb>data table notebook</a>'\n",
              "          + ' to learn more about interactive tables.';\n",
              "        element.innerHTML = '';\n",
              "        dataTable['output_type'] = 'display_data';\n",
              "        await google.colab.output.renderOutput(dataTable, element);\n",
              "        const docLink = document.createElement('div');\n",
              "        docLink.innerHTML = docLinkHtml;\n",
              "        element.appendChild(docLink);\n",
              "      }\n",
              "    </script>\n",
              "  </div>\n",
              "\n",
              "\n",
              "<div id=\"df-9222515e-ca26-4f35-a674-c75f9dc628f0\">\n",
              "  <button class=\"colab-df-quickchart\" onclick=\"quickchart('df-9222515e-ca26-4f35-a674-c75f9dc628f0')\"\n",
              "            title=\"Suggest charts\"\n",
              "            style=\"display:none;\">\n",
              "\n",
              "<svg xmlns=\"http://www.w3.org/2000/svg\" height=\"24px\"viewBox=\"0 0 24 24\"\n",
              "     width=\"24px\">\n",
              "    <g>\n",
              "        <path d=\"M19 3H5c-1.1 0-2 .9-2 2v14c0 1.1.9 2 2 2h14c1.1 0 2-.9 2-2V5c0-1.1-.9-2-2-2zM9 17H7v-7h2v7zm4 0h-2V7h2v10zm4 0h-2v-4h2v4z\"/>\n",
              "    </g>\n",
              "</svg>\n",
              "  </button>\n",
              "\n",
              "<style>\n",
              "  .colab-df-quickchart {\n",
              "      --bg-color: #E8F0FE;\n",
              "      --fill-color: #1967D2;\n",
              "      --hover-bg-color: #E2EBFA;\n",
              "      --hover-fill-color: #174EA6;\n",
              "      --disabled-fill-color: #AAA;\n",
              "      --disabled-bg-color: #DDD;\n",
              "  }\n",
              "\n",
              "  [theme=dark] .colab-df-quickchart {\n",
              "      --bg-color: #3B4455;\n",
              "      --fill-color: #D2E3FC;\n",
              "      --hover-bg-color: #434B5C;\n",
              "      --hover-fill-color: #FFFFFF;\n",
              "      --disabled-bg-color: #3B4455;\n",
              "      --disabled-fill-color: #666;\n",
              "  }\n",
              "\n",
              "  .colab-df-quickchart {\n",
              "    background-color: var(--bg-color);\n",
              "    border: none;\n",
              "    border-radius: 50%;\n",
              "    cursor: pointer;\n",
              "    display: none;\n",
              "    fill: var(--fill-color);\n",
              "    height: 32px;\n",
              "    padding: 0;\n",
              "    width: 32px;\n",
              "  }\n",
              "\n",
              "  .colab-df-quickchart:hover {\n",
              "    background-color: var(--hover-bg-color);\n",
              "    box-shadow: 0 1px 2px rgba(60, 64, 67, 0.3), 0 1px 3px 1px rgba(60, 64, 67, 0.15);\n",
              "    fill: var(--button-hover-fill-color);\n",
              "  }\n",
              "\n",
              "  .colab-df-quickchart-complete:disabled,\n",
              "  .colab-df-quickchart-complete:disabled:hover {\n",
              "    background-color: var(--disabled-bg-color);\n",
              "    fill: var(--disabled-fill-color);\n",
              "    box-shadow: none;\n",
              "  }\n",
              "\n",
              "  .colab-df-spinner {\n",
              "    border: 2px solid var(--fill-color);\n",
              "    border-color: transparent;\n",
              "    border-bottom-color: var(--fill-color);\n",
              "    animation:\n",
              "      spin 1s steps(1) infinite;\n",
              "  }\n",
              "\n",
              "  @keyframes spin {\n",
              "    0% {\n",
              "      border-color: transparent;\n",
              "      border-bottom-color: var(--fill-color);\n",
              "      border-left-color: var(--fill-color);\n",
              "    }\n",
              "    20% {\n",
              "      border-color: transparent;\n",
              "      border-left-color: var(--fill-color);\n",
              "      border-top-color: var(--fill-color);\n",
              "    }\n",
              "    30% {\n",
              "      border-color: transparent;\n",
              "      border-left-color: var(--fill-color);\n",
              "      border-top-color: var(--fill-color);\n",
              "      border-right-color: var(--fill-color);\n",
              "    }\n",
              "    40% {\n",
              "      border-color: transparent;\n",
              "      border-right-color: var(--fill-color);\n",
              "      border-top-color: var(--fill-color);\n",
              "    }\n",
              "    60% {\n",
              "      border-color: transparent;\n",
              "      border-right-color: var(--fill-color);\n",
              "    }\n",
              "    80% {\n",
              "      border-color: transparent;\n",
              "      border-right-color: var(--fill-color);\n",
              "      border-bottom-color: var(--fill-color);\n",
              "    }\n",
              "    90% {\n",
              "      border-color: transparent;\n",
              "      border-bottom-color: var(--fill-color);\n",
              "    }\n",
              "  }\n",
              "</style>\n",
              "\n",
              "  <script>\n",
              "    async function quickchart(key) {\n",
              "      const quickchartButtonEl =\n",
              "        document.querySelector('#' + key + ' button');\n",
              "      quickchartButtonEl.disabled = true;  // To prevent multiple clicks.\n",
              "      quickchartButtonEl.classList.add('colab-df-spinner');\n",
              "      try {\n",
              "        const charts = await google.colab.kernel.invokeFunction(\n",
              "            'suggestCharts', [key], {});\n",
              "      } catch (error) {\n",
              "        console.error('Error during call to suggestCharts:', error);\n",
              "      }\n",
              "      quickchartButtonEl.classList.remove('colab-df-spinner');\n",
              "      quickchartButtonEl.classList.add('colab-df-quickchart-complete');\n",
              "    }\n",
              "    (() => {\n",
              "      let quickchartButtonEl =\n",
              "        document.querySelector('#df-9222515e-ca26-4f35-a674-c75f9dc628f0 button');\n",
              "      quickchartButtonEl.style.display =\n",
              "        google.colab.kernel.accessAllowed ? 'block' : 'none';\n",
              "    })();\n",
              "  </script>\n",
              "</div>\n",
              "\n",
              "    </div>\n",
              "  </div>\n"
            ]
          },
          "metadata": {}
        }
      ],
      "source": [
        "X_train = pd.get_dummies(train_set.drop([\"Survived\"], axis=1))\n",
        "y_train = train_set[\"Survived\"]\n",
        "\n",
        "X_val = pd.get_dummies(val_set.drop([\"Survived\"], axis=1))\n",
        "y_val = val_set[\"Survived\"]\n",
        "\n",
        "display(X_train.head())"
      ]
    },
    {
      "cell_type": "markdown",
      "id": "548feccb",
      "metadata": {
        "papermill": {
          "duration": 0.015102,
          "end_time": "2023-11-14T08:40:14.669251",
          "exception": false,
          "start_time": "2023-11-14T08:40:14.654149",
          "status": "completed"
        },
        "tags": [],
        "id": "548feccb"
      },
      "source": [
        "We'll use a Random Forest with some pre-chosen settings as our baseline to classify between `Survived=0` and `Survived=1`."
      ]
    },
    {
      "cell_type": "code",
      "execution_count": null,
      "id": "7ee3172b",
      "metadata": {
        "execution": {
          "iopub.execute_input": "2023-11-14T08:40:14.769855Z",
          "iopub.status.busy": "2023-11-14T08:40:14.769247Z",
          "iopub.status.idle": "2023-11-14T08:40:15.518440Z",
          "shell.execute_reply": "2023-11-14T08:40:15.516960Z"
        },
        "papermill": {
          "duration": 0.767894,
          "end_time": "2023-11-14T08:40:15.521143",
          "exception": false,
          "start_time": "2023-11-14T08:40:14.753249",
          "status": "completed"
        },
        "tags": [],
        "id": "7ee3172b",
        "colab": {
          "base_uri": "https://localhost:8080/"
        },
        "outputId": "17647483-c95c-4925-9821-0b3e926fa714"
      },
      "outputs": [
        {
          "output_type": "stream",
          "name": "stdout",
          "text": [
            "Your RandomForestClassifier predicts 'Survived'\n",
            " with an validation set accuracy of 83.24\n"
          ]
        }
      ],
      "source": [
        "from sklearn.ensemble import RandomForestClassifier\n",
        "clf = RandomForestClassifier(\n",
        "    n_estimators=100, max_depth=5, random_state=1)\n",
        "\n",
        "clf.fit(X_train, y_train)\n",
        "acc = clf.score(X_val, y_val)\n",
        "\n",
        "print(f\"Your {clf.__class__.__name__} predicts 'Survived'\")\n",
        "print(f\" with an validation set accuracy of {acc*100:.2f}\")"
      ]
    },
    {
      "cell_type": "markdown",
      "id": "ce826cd8",
      "metadata": {
        "papermill": {
          "duration": 0.014683,
          "end_time": "2023-11-14T08:40:15.551095",
          "exception": false,
          "start_time": "2023-11-14T08:40:15.536412",
          "status": "completed"
        },
        "tags": [],
        "id": "ce826cd8"
      },
      "source": [
        "Congratulations! You've trained and run your first ML algorithm!"
      ]
    },
    {
      "cell_type": "markdown",
      "id": "30fd1f0f",
      "metadata": {
        "papermill": {
          "duration": 0.014187,
          "end_time": "2023-11-14T08:40:15.579873",
          "exception": false,
          "start_time": "2023-11-14T08:40:15.565686",
          "status": "completed"
        },
        "tags": [],
        "id": "30fd1f0f"
      },
      "source": [
        "## Assignment 2b: Evaluation practice\n",
        "Now that we have a working ML classifier, let's look at the evaluation environment.\n",
        "\n",
        "* ML algorithms often give different answers even with the same parameters. Write a loop that trains the same type of classifier 5 times and averages the scores. (Hint: vary or remove `random_state`.)\n",
        "* ML algorithms have lots of options. Today, we're not focusing on what those options mean, but on how to test between them. Write a loop or other function that tests out the hyperparameters (options) for [`RandomForestClassifier`](https://scikit-learn.org/stable/modules/generated/sklearn.ensemble.RandomForestClassifier.html#sklearn.ensemble.RandomForestClassifier): `n_estimators` and `max_depth`. Which values for each option give the best (averaged over 5) results?"
      ]
    },
    {
      "cell_type": "code",
      "execution_count": null,
      "id": "f96d7748",
      "metadata": {
        "execution": {
          "iopub.execute_input": "2023-11-14T08:40:15.612639Z",
          "iopub.status.busy": "2023-11-14T08:40:15.612225Z",
          "iopub.status.idle": "2023-11-14T08:40:20.029628Z",
          "shell.execute_reply": "2023-11-14T08:40:20.027831Z"
        },
        "papermill": {
          "duration": 4.437299,
          "end_time": "2023-11-14T08:40:20.032618",
          "exception": false,
          "start_time": "2023-11-14T08:40:15.595319",
          "status": "completed"
        },
        "tags": [],
        "id": "f96d7748"
      },
      "outputs": [],
      "source": [
        "# <YOUR CODE HERE>\n",
        "\n",
        "\n"
      ]
    },
    {
      "cell_type": "code",
      "execution_count": null,
      "id": "d292dc38",
      "metadata": {
        "execution": {
          "iopub.execute_input": "2023-11-14T08:40:20.065103Z",
          "iopub.status.busy": "2023-11-14T08:40:20.064606Z",
          "iopub.status.idle": "2023-11-14T08:40:20.074494Z",
          "shell.execute_reply": "2023-11-14T08:40:20.073062Z"
        },
        "papermill": {
          "duration": 0.029989,
          "end_time": "2023-11-14T08:40:20.077446",
          "exception": false,
          "start_time": "2023-11-14T08:40:20.047457",
          "status": "completed"
        },
        "tags": [],
        "id": "d292dc38"
      },
      "outputs": [],
      "source": [
        "average_scores"
      ]
    },
    {
      "cell_type": "markdown",
      "id": "80742d10",
      "metadata": {
        "papermill": {
          "duration": 0.014505,
          "end_time": "2023-11-14T08:40:20.107678",
          "exception": false,
          "start_time": "2023-11-14T08:40:20.093173",
          "status": "completed"
        },
        "tags": [],
        "id": "80742d10"
      },
      "source": [
        "### Extra: Cross-validation\n",
        "Cross-validation on a training set can be very helpful for finding the best values. In `sklearn` you can do this with less code.\n",
        "\n",
        "Use [`GridSearchCV`](https://scikit-learn.org/stable/modules/generated/sklearn.model_selection.GridSearchCV.html#sklearn.model_selection.GridSearchCV) and/or [`RandomizedSearchCV`](https://scikit-learn.org/stable/modules/generated/sklearn.model_selection.RandomizedSearchCV.html#sklearn.model_selection.RandomizedSearchCV) to find the best values for hyperparameters."
      ]
    },
    {
      "cell_type": "code",
      "execution_count": null,
      "id": "1b425ded",
      "metadata": {
        "execution": {
          "iopub.execute_input": "2023-11-14T08:40:20.139620Z",
          "iopub.status.busy": "2023-11-14T08:40:20.139206Z",
          "iopub.status.idle": "2023-11-14T08:41:08.618206Z",
          "shell.execute_reply": "2023-11-14T08:41:08.617158Z"
        },
        "papermill": {
          "duration": 48.514994,
          "end_time": "2023-11-14T08:41:08.637594",
          "exception": false,
          "start_time": "2023-11-14T08:40:20.122600",
          "status": "completed"
        },
        "tags": [],
        "id": "1b425ded"
      },
      "outputs": [],
      "source": [
        "# <YOUR CODE HERE>\n",
        "\n"
      ]
    },
    {
      "cell_type": "code",
      "execution_count": null,
      "id": "36259254",
      "metadata": {
        "execution": {
          "iopub.execute_input": "2023-11-14T08:41:08.670741Z",
          "iopub.status.busy": "2023-11-14T08:41:08.670043Z",
          "iopub.status.idle": "2023-11-14T08:41:08.691390Z",
          "shell.execute_reply": "2023-11-14T08:41:08.689203Z"
        },
        "papermill": {
          "duration": 0.042274,
          "end_time": "2023-11-14T08:41:08.694711",
          "exception": false,
          "start_time": "2023-11-14T08:41:08.652437",
          "status": "completed"
        },
        "tags": [],
        "id": "36259254"
      },
      "outputs": [],
      "source": [
        "final_clf = grid_search.best_estimator_\n",
        "final_clf.score(X_val,y_val)"
      ]
    },
    {
      "cell_type": "markdown",
      "id": "3e614bae",
      "metadata": {
        "papermill": {
          "duration": 0.014682,
          "end_time": "2023-11-14T08:41:08.724897",
          "exception": false,
          "start_time": "2023-11-14T08:41:08.710215",
          "status": "completed"
        },
        "tags": [],
        "id": "3e614bae"
      },
      "source": [
        "# Extra: Held-out data evaluation on Kaggle\n",
        "The Titanic data can actually be tested further on held-out data, which does not have gold standard labels (`Survived` = 0 or 1). To do this:\n",
        "\n",
        "* Download this Jupyter notebook\n",
        "* Sign up for [kaggle.com](https://www.kaggle.com)\n",
        "* Visit the page for the [Titanic competition](https://www.kaggle.com/competitions/titanic), from which we borrowed this data and problem setting, and sign up to participate\n",
        "* Upload this Jupyter notebook (Note: Kaggle has a native Jupyter notebook editor that's very similar to Google Colab)\n",
        "* Change the input files to point to local competition files (i.e., `\"/kaggle/input/titanic/train.csv\"` and `\"/kaggle/input/titanic/test.csv\"`)\n",
        "* Create the output file `submission.csv` below, and then click \"Submit\" to _run all the cells in the Notebook_, _re-create_ `submission.csv`, and submit that for scoring on the Competition's leaderboard."
      ]
    },
    {
      "cell_type": "code",
      "execution_count": null,
      "id": "b922b2c6",
      "metadata": {
        "execution": {
          "iopub.execute_input": "2023-11-14T08:41:08.757599Z",
          "iopub.status.busy": "2023-11-14T08:41:08.756910Z",
          "iopub.status.idle": "2023-11-14T08:41:08.788129Z",
          "shell.execute_reply": "2023-11-14T08:41:08.786634Z"
        },
        "papermill": {
          "duration": 0.051217,
          "end_time": "2023-11-14T08:41:08.791115",
          "exception": false,
          "start_time": "2023-11-14T08:41:08.739898",
          "status": "completed"
        },
        "tags": [],
        "id": "b922b2c6"
      },
      "outputs": [],
      "source": [
        "model = clf # use the baseline Random Forest or replace with Assignment 3\n",
        "X_test = pd.get_dummies(test_data) # clean the test data in the same way as train\n",
        "\n",
        "predictions = model.predict(X_test)\n",
        "\n",
        "output = pd.DataFrame({'PassengerId': test_data.PassengerId, 'Survived': predictions})\n",
        "output.to_csv('submission.csv', index=False)\n",
        "print(\"Your submission was successfully saved!\")"
      ]
    },
    {
      "cell_type": "markdown",
      "id": "23a45105",
      "metadata": {
        "papermill": {
          "duration": 0.016129,
          "end_time": "2023-11-14T08:41:08.822730",
          "exception": false,
          "start_time": "2023-11-14T08:41:08.806601",
          "status": "completed"
        },
        "tags": [],
        "id": "23a45105"
      },
      "source": [
        "Now click on the 3 vertical dots for options,  to your Kaggle page and go to `Submit to competition` and click on `Submit`.\n",
        "\n",
        "You've finished your first Kaggle submission! Check your `Score`, and then keep on learning how to code AI!"
      ]
    },
    {
      "cell_type": "markdown",
      "source": [
        "# Solutions\n",
        "The solutions for this notebook can be found [here](https://colab.research.google.com/drive/13mV9dGzf4HIQh97zt6uFZOx5crDt1J1P?usp=sharing)."
      ],
      "metadata": {
        "id": "xe5SQqbskXtq"
      },
      "id": "xe5SQqbskXtq"
    }
  ],
  "metadata": {
    "kernelspec": {
      "display_name": "Python 3",
      "language": "python",
      "name": "python3"
    },
    "language_info": {
      "codemirror_mode": {
        "name": "ipython",
        "version": 3
      },
      "file_extension": ".py",
      "mimetype": "text/x-python",
      "name": "python",
      "nbconvert_exporter": "python",
      "pygments_lexer": "ipython3",
      "version": "3.10.12"
    },
    "papermill": {
      "default_parameters": {},
      "duration": 65.391415,
      "end_time": "2023-11-14T08:41:09.560267",
      "environment_variables": {},
      "exception": null,
      "input_path": "__notebook__.ipynb",
      "output_path": "__notebook__.ipynb",
      "parameters": {},
      "start_time": "2023-11-14T08:40:04.168852",
      "version": "2.4.0"
    },
    "colab": {
      "provenance": [],
      "toc_visible": true
    }
  },
  "nbformat": 4,
  "nbformat_minor": 5
}