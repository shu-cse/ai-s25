{
 "cells": [
  {
   "cell_type": "markdown",
   "metadata": {},
   "source": [
    "# Instructor's solution for Lab 4\n",
    "You can utilize this solution, but if you do, you MUST TYPE EVERYTHING yourself, no cut-and-paste (e.g., with CTRL+C and CTRL+V)."
   ]
  },
  {
   "cell_type": "code",
   "execution_count": 1,
   "metadata": {},
   "outputs": [],
   "source": [
    "from agents import *\n",
    "import numpy as np\n",
    "\n",
    "loc_A, loc_B = (0, 0), (1, 0)\n",
    "CLEAN = {loc_A: 'Clean',\n",
    "        loc_B: 'Clean'}"
   ]
  },
  {
   "cell_type": "markdown",
   "metadata": {},
   "source": [
    "## This portion is what we did in Lab 3 already\n",
    "We are using the `TrivialVacuumEnvironment` with the `RandomAgent`"
   ]
  },
  {
   "cell_type": "code",
   "execution_count": 4,
   "metadata": {},
   "outputs": [
    {
     "name": "stdout",
     "output_type": "stream",
     "text": [
      "RandomAgentProgram with TrivialVacuumEnvrionment\n",
      " Mean = 9.0069 Std = 10.410843020140108\n"
     ]
    }
   ],
   "source": [
    "num_steps_list = []\n",
    "for i in range(10000):\n",
    "    trivial_vacuum_env = TrivialVacuumEnvironment()\n",
    "    random_agent = Agent(program=RandomAgentProgram(\n",
    "        ['Right', 'Left', 'Suck', 'NoOp']\n",
    "    ))\n",
    "    trivial_vacuum_env.add_thing(random_agent)\n",
    "\n",
    "    num_steps = 0\n",
    "    while trivial_vacuum_env.status != CLEAN:\n",
    "        trivial_vacuum_env.step()\n",
    "        num_steps += 1\n",
    "    num_steps_list.append(num_steps)\n",
    "\n",
    "num_steps_array = np.array(num_steps_list)\n",
    "\n",
    "print('RandomAgentProgram with TrivialVacuumEnvrionment\\n'\\\n",
    "      + f\" Mean = {num_steps_array.mean()}\"\\\n",
    "      + f\" Std = {num_steps_array.std()}\")"
   ]
  },
  {
   "cell_type": "markdown",
   "metadata": {},
   "source": [
    "# Define a `NondeterministicVacuumEnvironment` instead of `TrivialVacuumEnvironment`"
   ]
  },
  {
   "cell_type": "code",
   "execution_count": 5,
   "metadata": {},
   "outputs": [],
   "source": [
    "class NondeterministicVacuumEnvironment(Environment):\n",
    "    def __init__(self, success_rate=0.9):\n",
    "        super().__init__()\n",
    "        self.status = {loc_A: random.choice(['Clean','Dirty']),\n",
    "                       loc_B: random.choice(['Clean','Dirty'])}\n",
    "        self.success_rate = success_rate\n",
    "        \n",
    "    def thing_classes(self):\n",
    "        return [Wall, Dirt, RandomVacuumAgent, ReflexVacuumAgent]\n",
    "    \n",
    "    def percept(self, agent):\n",
    "        return agent.location, self.status[agent.location]\n",
    "    \n",
    "    def default_location(self, thing):\n",
    "        return random.choice([loc_A, loc_B])\n",
    "    \n",
    "    def execute_action(self, agent, action):\n",
    "        if action == 'Right':\n",
    "            if random.random() < self.success_rate:\n",
    "                agent.location = loc_B\n",
    "                agent.performance -= 1\n",
    "        elif action == 'Left':\n",
    "            if random.random() < self.success_rate:\n",
    "                agent.location = loc_A\n",
    "                agent.performance -= 1\n",
    "        elif action == 'Suck':\n",
    "            if random.random() < self.success_rate:\n",
    "                if self.status[agent.location] == 'Dirty':\n",
    "                    agent.performance += 10\n",
    "                self.status[agent.location] = 'Clean'\n",
    "                "
   ]
  },
  {
   "cell_type": "markdown",
   "metadata": {},
   "source": [
    "Now we will take the 10,000-trial code from before and use the `NondeterministicVacuumEnvironment` instead."
   ]
  },
  {
   "cell_type": "code",
   "execution_count": 8,
   "metadata": {},
   "outputs": [
    {
     "name": "stdout",
     "output_type": "stream",
     "text": [
      "RandomAgentProgram with NondeterministicVacuumEnvrionment\n",
      " Mean = 10.0349 Std = 11.578371301266857\n"
     ]
    }
   ],
   "source": [
    "num_steps_list = []\n",
    "for i in range(10000):\n",
    "    nondeterministic_vacuum_env = NondeterministicVacuumEnvironment()\n",
    "    random_agent = Agent(program=RandomAgentProgram(\n",
    "        ['Right', 'Left', 'Suck', 'NoOp']\n",
    "    ))\n",
    "    nondeterministic_vacuum_env.add_thing(random_agent)\n",
    "\n",
    "    num_steps = 0\n",
    "    while nondeterministic_vacuum_env.status != CLEAN:\n",
    "        nondeterministic_vacuum_env.step()\n",
    "        num_steps += 1\n",
    "    num_steps_list.append(num_steps)\n",
    "\n",
    "num_steps_array = np.array(num_steps_list)\n",
    "\n",
    "print('RandomAgentProgram with NondeterministicVacuumEnvrionment\\n'\\\n",
    "      + f\" Mean = {num_steps_array.mean()}\"\\\n",
    "      + f\" Std = {num_steps_array.std()}\")"
   ]
  },
  {
   "cell_type": "markdown",
   "metadata": {},
   "source": [
    "Conclusion: We can see that the `NondeterministicVacuumEnvironment` make it more difficult for the agent to clean the environment, since it takes more steps."
   ]
  },
  {
   "cell_type": "markdown",
   "metadata": {},
   "source": []
  }
 ],
 "metadata": {
  "kernelspec": {
   "display_name": ".venv",
   "language": "python",
   "name": "python3"
  },
  "language_info": {
   "codemirror_mode": {
    "name": "ipython",
    "version": 3
   },
   "file_extension": ".py",
   "mimetype": "text/x-python",
   "name": "python",
   "nbconvert_exporter": "python",
   "pygments_lexer": "ipython3",
   "version": "3.8.10"
  }
 },
 "nbformat": 4,
 "nbformat_minor": 2
}
