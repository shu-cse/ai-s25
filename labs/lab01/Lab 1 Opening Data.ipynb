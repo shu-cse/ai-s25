{
  "cells": [
    {
      "cell_type": "markdown",
      "metadata": {
        "id": "j-FovUNww-qh"
      },
      "source": [
        "Welcome to CS351 Intro to AI at Saraya Hamra University!"
      ]
    },
    {
      "cell_type": "markdown",
      "metadata": {
        "id": "mUfLBe5ywnvs"
      },
      "source": [
        "# Lab 1: Explore data in a Jupyter Notebook\n",
        "References: [Titanic on Kaggle](https://www.kaggle.com/competitions/titanic)"
      ]
    },
    {
      "cell_type": "code",
      "execution_count": 1,
      "metadata": {
        "id": "OIoKExe8Zb62"
      },
      "outputs": [
        {
          "name": "stdout",
          "output_type": "stream",
          "text": [
            "Requirement already satisfied: numpy in c:\\users\\bahas\\appdata\\local\\programs\\python\\python39\\lib\\site-packages (2.0.2)\n",
            "Requirement already satisfied: pandas in c:\\users\\bahas\\appdata\\local\\programs\\python\\python39\\lib\\site-packages (2.2.3)\n",
            "Requirement already satisfied: matplotlib in c:\\users\\bahas\\appdata\\local\\programs\\python\\python39\\lib\\site-packages (3.9.4)\n",
            "Requirement already satisfied: seaborn in c:\\users\\bahas\\appdata\\local\\programs\\python\\python39\\lib\\site-packages (0.13.2)\n",
            "Requirement already satisfied: pytz>=2020.1 in c:\\users\\bahas\\appdata\\local\\programs\\python\\python39\\lib\\site-packages (from pandas) (2025.1)\n",
            "Requirement already satisfied: tzdata>=2022.7 in c:\\users\\bahas\\appdata\\local\\programs\\python\\python39\\lib\\site-packages (from pandas) (2025.1)\n",
            "Requirement already satisfied: python-dateutil>=2.8.2 in c:\\users\\bahas\\appdata\\roaming\\python\\python39\\site-packages (from pandas) (2.9.0.post0)\n",
            "Requirement already satisfied: six>=1.5 in c:\\users\\bahas\\appdata\\roaming\\python\\python39\\site-packages (from python-dateutil>=2.8.2->pandas) (1.17.0)\n",
            "Requirement already satisfied: kiwisolver>=1.3.1 in c:\\users\\bahas\\appdata\\local\\programs\\python\\python39\\lib\\site-packages (from matplotlib) (1.4.7)\n",
            "Requirement already satisfied: contourpy>=1.0.1 in c:\\users\\bahas\\appdata\\local\\programs\\python\\python39\\lib\\site-packages (from matplotlib) (1.3.0)\n",
            "Requirement already satisfied: fonttools>=4.22.0 in c:\\users\\bahas\\appdata\\local\\programs\\python\\python39\\lib\\site-packages (from matplotlib) (4.56.0)\n",
            "Requirement already satisfied: cycler>=0.10 in c:\\users\\bahas\\appdata\\local\\programs\\python\\python39\\lib\\site-packages (from matplotlib) (0.12.1)\n",
            "Requirement already satisfied: packaging>=20.0 in c:\\users\\bahas\\appdata\\roaming\\python\\python39\\site-packages (from matplotlib) (24.2)\n",
            "Requirement already satisfied: pillow>=8 in c:\\users\\bahas\\appdata\\local\\programs\\python\\python39\\lib\\site-packages (from matplotlib) (11.1.0)\n",
            "Requirement already satisfied: importlib-resources>=3.2.0 in c:\\users\\bahas\\appdata\\local\\programs\\python\\python39\\lib\\site-packages (from matplotlib) (6.5.2)\n",
            "Requirement already satisfied: pyparsing>=2.3.1 in c:\\users\\bahas\\appdata\\local\\programs\\python\\python39\\lib\\site-packages (from matplotlib) (3.2.1)\n",
            "Requirement already satisfied: zipp>=3.1.0 in c:\\users\\bahas\\appdata\\roaming\\python\\python39\\site-packages (from importlib-resources>=3.2.0->matplotlib) (3.21.0)\n",
            "Note: you may need to restart the kernel to use updated packages.\n"
          ]
        },
        {
          "name": "stderr",
          "output_type": "stream",
          "text": [
            "WARNING: You are using pip version 21.1.1; however, version 25.0.1 is available.\n",
            "You should consider upgrading via the 'c:\\Users\\bahas\\AppData\\Local\\Programs\\Python\\Python39\\python.exe -m pip install --upgrade pip' command.\n"
          ]
        }
      ],
      "source": [
        "### Import libraries for data exploration and visualization\n",
        "%pip install numpy pandas matplotlib seaborn\n",
        "import numpy as np\n",
        "import pandas as pd\n",
        "import matplotlib.pyplot as plt\n",
        "import seaborn as sns"
      ]
    },
    {
      "cell_type": "markdown",
      "metadata": {
        "id": "gZNFZhohzRbo"
      },
      "source": [
        "## Collect & Visualize Data"
      ]
    },
    {
      "cell_type": "markdown",
      "metadata": {
        "id": "9EX-e1a-9FQa"
      },
      "source": [
        "### Loading Titanic data\n",
        "\n",
        "We will load a dataset about who survived the Titanic disaster."
      ]
    },
    {
      "cell_type": "markdown",
      "metadata": {
        "id": "PxxZcI81k9FL"
      },
      "source": [
        "Most of our analysis will be done in `pandas`. The [`read_csv`](https://pandas.pydata.org/docs/reference/api/pandas.read_csv.html) function is full-featured and very useful."
      ]
    },
    {
      "cell_type": "code",
      "execution_count": 2,
      "metadata": {
        "colab": {
          "base_uri": "https://localhost:8080/",
          "height": 388
        },
        "id": "-bmw8k2ewU5Z",
        "outputId": "da8b7ff4-b518-499a-8590-7bb3a4279999"
      },
      "outputs": [
        {
          "name": "stdout",
          "output_type": "stream",
          "text": [
            "The Dataframe (matrix) has 891 rows and 12 columns.\n",
            "\n",
            "Here's what some rows of data look like:\n"
          ]
        },
        {
          "data": {
            "text/html": [
              "<div>\n",
              "<style scoped>\n",
              "    .dataframe tbody tr th:only-of-type {\n",
              "        vertical-align: middle;\n",
              "    }\n",
              "\n",
              "    .dataframe tbody tr th {\n",
              "        vertical-align: top;\n",
              "    }\n",
              "\n",
              "    .dataframe thead th {\n",
              "        text-align: right;\n",
              "    }\n",
              "</style>\n",
              "<table border=\"1\" class=\"dataframe\">\n",
              "  <thead>\n",
              "    <tr style=\"text-align: right;\">\n",
              "      <th></th>\n",
              "      <th>PassengerId</th>\n",
              "      <th>Survived</th>\n",
              "      <th>Pclass</th>\n",
              "      <th>Name</th>\n",
              "      <th>Sex</th>\n",
              "      <th>Age</th>\n",
              "      <th>SibSp</th>\n",
              "      <th>Parch</th>\n",
              "      <th>Ticket</th>\n",
              "      <th>Fare</th>\n",
              "      <th>Cabin</th>\n",
              "      <th>Embarked</th>\n",
              "    </tr>\n",
              "  </thead>\n",
              "  <tbody>\n",
              "    <tr>\n",
              "      <th>0</th>\n",
              "      <td>1</td>\n",
              "      <td>0</td>\n",
              "      <td>3</td>\n",
              "      <td>Braund, Mr. Owen Harris</td>\n",
              "      <td>male</td>\n",
              "      <td>22.0</td>\n",
              "      <td>1</td>\n",
              "      <td>0</td>\n",
              "      <td>A/5 21171</td>\n",
              "      <td>7.2500</td>\n",
              "      <td>NaN</td>\n",
              "      <td>S</td>\n",
              "    </tr>\n",
              "    <tr>\n",
              "      <th>1</th>\n",
              "      <td>2</td>\n",
              "      <td>1</td>\n",
              "      <td>1</td>\n",
              "      <td>Cumings, Mrs. John Bradley (Florence Briggs Th...</td>\n",
              "      <td>female</td>\n",
              "      <td>38.0</td>\n",
              "      <td>1</td>\n",
              "      <td>0</td>\n",
              "      <td>PC 17599</td>\n",
              "      <td>71.2833</td>\n",
              "      <td>C85</td>\n",
              "      <td>C</td>\n",
              "    </tr>\n",
              "    <tr>\n",
              "      <th>2</th>\n",
              "      <td>3</td>\n",
              "      <td>1</td>\n",
              "      <td>3</td>\n",
              "      <td>Heikkinen, Miss. Laina</td>\n",
              "      <td>female</td>\n",
              "      <td>26.0</td>\n",
              "      <td>0</td>\n",
              "      <td>0</td>\n",
              "      <td>STON/O2. 3101282</td>\n",
              "      <td>7.9250</td>\n",
              "      <td>NaN</td>\n",
              "      <td>S</td>\n",
              "    </tr>\n",
              "    <tr>\n",
              "      <th>3</th>\n",
              "      <td>4</td>\n",
              "      <td>1</td>\n",
              "      <td>1</td>\n",
              "      <td>Futrelle, Mrs. Jacques Heath (Lily May Peel)</td>\n",
              "      <td>female</td>\n",
              "      <td>35.0</td>\n",
              "      <td>1</td>\n",
              "      <td>0</td>\n",
              "      <td>113803</td>\n",
              "      <td>53.1000</td>\n",
              "      <td>C123</td>\n",
              "      <td>S</td>\n",
              "    </tr>\n",
              "    <tr>\n",
              "      <th>4</th>\n",
              "      <td>5</td>\n",
              "      <td>0</td>\n",
              "      <td>3</td>\n",
              "      <td>Allen, Mr. William Henry</td>\n",
              "      <td>male</td>\n",
              "      <td>35.0</td>\n",
              "      <td>0</td>\n",
              "      <td>0</td>\n",
              "      <td>373450</td>\n",
              "      <td>8.0500</td>\n",
              "      <td>NaN</td>\n",
              "      <td>S</td>\n",
              "    </tr>\n",
              "  </tbody>\n",
              "</table>\n",
              "</div>"
            ],
            "text/plain": [
              "   PassengerId  Survived  Pclass  \\\n",
              "0            1         0       3   \n",
              "1            2         1       1   \n",
              "2            3         1       3   \n",
              "3            4         1       1   \n",
              "4            5         0       3   \n",
              "\n",
              "                                                Name     Sex   Age  SibSp  \\\n",
              "0                            Braund, Mr. Owen Harris    male  22.0      1   \n",
              "1  Cumings, Mrs. John Bradley (Florence Briggs Th...  female  38.0      1   \n",
              "2                             Heikkinen, Miss. Laina  female  26.0      0   \n",
              "3       Futrelle, Mrs. Jacques Heath (Lily May Peel)  female  35.0      1   \n",
              "4                           Allen, Mr. William Henry    male  35.0      0   \n",
              "\n",
              "   Parch            Ticket     Fare Cabin Embarked  \n",
              "0      0         A/5 21171   7.2500   NaN        S  \n",
              "1      0          PC 17599  71.2833   C85        C  \n",
              "2      0  STON/O2. 3101282   7.9250   NaN        S  \n",
              "3      0            113803  53.1000  C123        S  \n",
              "4      0            373450   8.0500   NaN        S  "
            ]
          },
          "metadata": {},
          "output_type": "display_data"
        }
      ],
      "source": [
        "train_data = pd.read_csv('train.csv')\n",
        "print(f\"The Dataframe (matrix) has {train_data.shape[0]} rows \"\n",
        "  + f\"and {train_data.shape[1]} columns.\\n\")\n",
        "print(\"Here's what some rows of data look like:\")\n",
        "display(train_data.head())"
      ]
    },
    {
      "cell_type": "markdown",
      "metadata": {
        "id": "bLuIEcy_hoSf"
      },
      "source": [
        "### Exploring data\n",
        "We've read our comma-separated value (CSV) file into a `pandas` [Dataframe](https://pandas.pydata.org/docs/reference/api/pandas.DataFrame.html). In this case, `train_data` is a Dataframe that's shaped like a matrix. In `pandas` Dataframes, you can refer to things by their column (or row) headings as well as by index in the matrix."
      ]
    },
    {
      "cell_type": "code",
      "execution_count": 3,
      "metadata": {
        "id": "k7K4Wm3AiUi0"
      },
      "outputs": [
        {
          "name": "stdout",
          "output_type": "stream",
          "text": [
            "Referring by index, row 2 column 8:\n",
            "STON/O2. 3101282\n",
            "\n",
            "Referring by 'Ticket' column, row 2:\n",
            "STON/O2. 3101282\n",
            "\n",
            "Selecting a column by heading 'Ticket':\n",
            "0             A/5 21171\n",
            "1              PC 17599\n",
            "2      STON/O2. 3101282\n",
            "3                113803\n",
            "4                373450\n",
            "             ...       \n",
            "886              211536\n",
            "887              112053\n",
            "888          W./C. 6607\n",
            "889              111369\n",
            "890              370376\n",
            "Name: Ticket, Length: 891, dtype: object\n",
            "\n",
            "Selecting a row by the value in 'Ticket':\n",
            "   PassengerId  Survived  Pclass                    Name     Sex   Age  SibSp  \\\n",
            "2            3         1       3  Heikkinen, Miss. Laina  female  26.0      0   \n",
            "\n",
            "   Parch            Ticket   Fare Cabin Embarked  \n",
            "2      0  STON/O2. 3101282  7.925   NaN        S  \n"
          ]
        },
        {
          "name": "stderr",
          "output_type": "stream",
          "text": [
            "C:\\Users\\bahas\\AppData\\Local\\Temp\\ipykernel_17740\\1199071101.py:2: FutureWarning: Series.__getitem__ treating keys as positions is deprecated. In a future version, integer keys will always be treated as labels (consistent with DataFrame behavior). To access a value by position, use `ser.iloc[pos]`\n",
            "  print(f\"Referring by index, row 2 column 8:\\n{train_data.iloc[2][8]}\\n\")\n"
          ]
        }
      ],
      "source": [
        "# Indexing & Selection. e.g., for item 2 of the 'Ticket' (8th) column\n",
        "print(f\"Referring by index, row 2 column 8:\\n{train_data.iloc[2][8]}\\n\")\n",
        "print(f\"Referring by 'Ticket' column, row 2:\\n{train_data['Ticket'][2]}\\n\")\n",
        "\n",
        "print(f\"Selecting a column by heading 'Ticket':\\n{train_data['Ticket']}\\n\")\n",
        "\n",
        "print(\"Selecting a row by the value in 'Ticket':\")\n",
        "print(train_data.loc[train_data['Ticket'] == 'STON/O2. 3101282'])"
      ]
    },
    {
      "cell_type": "markdown",
      "metadata": {
        "id": "9OVWcd0D2pnE"
      },
      "source": [
        "### Plotting a histogram with Seaborn\n",
        "Often, we'd like to visualize the data with specific plots. Let's try to plot the relationship between `Survived` and `Age` to see if older or younger people are more likely to survive, using a kind of bar chart called a histogram (see Seaborn documentation on [histplot](https://seaborn.pydata.org/generated/seaborn.histplot.html))."
      ]
    },
    {
      "cell_type": "code",
      "execution_count": null,
      "metadata": {
        "id": "ybTVr8CM27aD"
      },
      "outputs": [],
      "source": [
        "# Plot the original Age distribution\n",
        "sns.histplot(data=train_data, x=\"Age\", binwidth=10)"
      ]
    },
    {
      "cell_type": "code",
      "execution_count": null,
      "metadata": {
        "id": "Xay48ccd8N9S"
      },
      "outputs": [],
      "source": [
        "# Plot the Age distribution with survivor data overlaid\n",
        "sns.histplot(data=train_data, x=\"Age\", binwidth=10,\n",
        "             stat=\"probability\", multiple=\"fill\", hue=\"Survived\")"
      ]
    },
    {
      "cell_type": "markdown",
      "metadata": {
        "id": "YGZReok8j9oI"
      },
      "source": [
        "### Exercise 1.1\n",
        "Often, we want to programmatically calculate specific statistics. Here, let's explore the relationship between the `Surivived` and `Sex` variables in the dataset. Write code to calculate and print the following:\n",
        "\n",
        "* What percentage of the passengers\n",
        "survived the Titanic?\n",
        "* What percentage of the survivors were women? (Select survivors first)\n",
        "* What percentage of women were survivors? (Select women first)\n",
        "* Visualize the relationship between these two variables using a stacked histogram."
      ]
    },
    {
      "cell_type": "code",
      "execution_count": 9,
      "metadata": {
        "id": "qOqnCF7RqTW1"
      },
      "outputs": [
        {
          "name": "stdout",
          "output_type": "stream",
          "text": [
            "38.38383838383838% of passengers survived the Titanic.\n"
          ]
        }
      ],
      "source": [
        "### Exercise 1.1(a)\n",
        "### What percentage of the passengers survived the Titanic?\n",
        "\n",
        "# <YOUR CODE HERE>\n",
        "total_people = train_data.shape[0] # 891 people\n",
        "survived_people = train_data['Survived'].sum() # 342 people\n",
        "print(f\"{survived_people/total_people * 100}% of passengers survived the Titanic.\")\n",
        "\n",
        "### What percentage of the survivors were women? (Select survivors first)\n",
        "\n",
        "# <YOUR CODE HERE>\n",
        "# print(f\"{}% of survivors were women.\")\n",
        "\n",
        "### What percentage of women were survivors? (Select women first)\n",
        "\n",
        "# <YOUR CODE HERE>\n",
        "# print(f\"{}% of women were survivors.\")\n",
        "\n",
        "### Visualize the relationship b/t `Survived` and `Sex` via a stacked histogram\n",
        "\n",
        "# <YOUR CODE HERE>\n",
        "# print(f\"This plot breaks down who 'Survived' according to 'Sex'\")\n"
      ]
    },
    {
      "cell_type": "markdown",
      "metadata": {
        "id": "COkra01if8Cc"
      },
      "source": [
        "<!-- ### EXTRA: Flood disaster datasets\n",
        "Look at some data sets on flooding. Say that you would like to ...\n",
        "\n",
        "* Which of the [OpenFEMA](https://www.fema.gov/about/openfema/data-sets) data sets would you use if you were trying to find...\n",
        "* Access your chosen dataset [via API](https://www.fema.gov/about/openfema/api). Namely, use the `requests` library to send `https` commands and get results according to the API.\n",
        "* Pull a small amount of data to see its characteristics. -->\n"
      ]
    },
    {
      "cell_type": "markdown",
      "metadata": {
        "id": "wRyn4PhNy16I"
      },
      "source": [
        "## Dataset cleaning\n",
        "In real life, data does not come in exactly the format you need for the problem you want to solve. You have to \"wrangle\" the data -- clean and transform it into something you can use. Let's try looking at some cryptocurrency (financial) data. (Adapted from Jongho Kim's introductory Jupyter Notebooks [1](https://github.com/jonghkim/financial-time-series-prediction-v2/blob/master/Module3/Hands-on-Labs/Lab_Orderbook_Data_Exploration.ipynb), [2](https://github.com/jonghkim/financial-time-series-prediction-v2/blob/master/Module2/Hands-on-Labs/Lab_Preprocessing_for_Cryptocurrency_Data.ipynb))"
      ]
    },
    {
      "cell_type": "code",
      "execution_count": null,
      "metadata": {
        "id": "uM5dMe5RydOk"
      },
      "outputs": [],
      "source": [
        "import numpy as np\n",
        "import pandas as pd\n",
        "import matplotlib.pyplot as plt\n",
        "import seaborn as sns\n",
        "\n",
        "from datetime import datetime"
      ]
    },
    {
      "cell_type": "markdown",
      "metadata": {
        "id": "qBhGRjlnQDpv"
      },
      "source": [
        "### Loading cryptocurrency data\n",
        "We'll look at some data that is a bit more raw than the previous Titanic data. `coin_price` is financial data for several cryptocurrencies.\n"
      ]
    },
    {
      "cell_type": "code",
      "execution_count": null,
      "metadata": {
        "id": "y4wWKkZb-LK2"
      },
      "outputs": [],
      "source": [
        "# Pull data into pandas\n",
        "coin_price = pd.read_csv(\"/content/crypto_data/coin_price_dfs.csv\")\n",
        "print(f\"This dataframe is {coin_price.shape[0]} rows \" \\\n",
        "      + f\"and {coin_price.shape[1]} columns.\")\n",
        "\n",
        "orderbook = pd.read_csv(\"/content/crypto_data/orderbook_dfs.csv\")\n",
        "print(f\"This dataframe is {orderbook.shape[0]} rows \" \\\n",
        "      + f\"and {orderbook.shape[1]} columns.\")\n",
        "\n",
        "coin_price.head()"
      ]
    },
    {
      "cell_type": "markdown",
      "metadata": {
        "id": "jmpn51dukEGU"
      },
      "source": [
        "### Exercise 1.2(a) Sorting by Time\n",
        "For both `coin_price` and `orderbook`:\n",
        "\n",
        "* There are 3 variables used to record time. Which among the three is inaccurate? (Hint: use `keys` to see headers; use `fromtimestamp` and `fromisoformat` from the [datetime](https://docs.python.org/3/library/datetime.html) library to convert between date formats).\n",
        "* Keep only one accurate column for time with the lowest storage cost. (Hint: use `drop` from [Dataframe](https://pandas.pydata.org/docs/reference/api/pandas.DataFrame.html)).\n",
        "* Sort the data according to time. (Hint: use `sort_values` from [Dataframe](https://pandas.pydata.org/docs/reference/api/pandas.DataFrame.html)).\n",
        "\n"
      ]
    },
    {
      "cell_type": "code",
      "execution_count": null,
      "metadata": {
        "id": "xSOfrf-mog4k"
      },
      "outputs": [],
      "source": [
        "time_label = ''\n",
        "# <YOUR CODE HERE>\n",
        "\n",
        "print(f\"I am keeping the {time_label} column as my time\")"
      ]
    },
    {
      "cell_type": "markdown",
      "metadata": {
        "id": "GdZXiUXExoCs"
      },
      "source": [
        "### Plotting financial data\n",
        "After selecting rows only pertaining to Bitcoin, plot the `last` recorded price of the cryptocurrency at the end of the time frame."
      ]
    },
    {
      "cell_type": "code",
      "execution_count": null,
      "metadata": {
        "id": "TwdfPaPze3h3"
      },
      "outputs": [],
      "source": [
        "# Select rows pertaining to currency_types of interest only\n",
        "currency_types = [\"btc\"]\n",
        "coin_price = coin_price[coin_price[\"currency\"].isin(currency_types)]\n",
        "\n",
        "g = sns.lineplot(\n",
        "    x=coin_price[time_label].apply(datetime.fromtimestamp),\n",
        "    y=coin_price['last'])\n",
        "plt.xticks(rotation=45)\n",
        "plt.show()"
      ]
    },
    {
      "cell_type": "markdown",
      "metadata": {
        "id": "Y2wrEjRr4JBe"
      },
      "source": [
        "### Exercise 1.2(b) Calculations and Missing values\n",
        "Data is not pristine in real life. Data collection may produce missing or incomplete data, even in highly automated settings.\n",
        "\n",
        "* How many missing values (`NaN`) are present in `coin_price`?  (Hint: use `isna` from [Dataframe](https://pandas.pydata.org/docs/reference/api/pandas.DataFrame.html))\n",
        "\n",
        "For `coin_price`, we calculate each timestamp's percentage change from the previous datapoint -- commonly used in stocks and save as a new `last_return` column.\n",
        "\n",
        "* Since this is a time series, fill in data on the `log_last_return` column for `NaN`s by using `interpolate` from [Dataframe](https://pandas.pydata.org/docs/reference/api/pandas.DataFrame.html). This will estimate the value of a missing data point based on the values around it datapoint.\n",
        "* What happens if you do not fill in `NaN`s (or `dropna`, for example)?"
      ]
    },
    {
      "cell_type": "code",
      "execution_count": null,
      "metadata": {
        "id": "C4RAIyo92dgb"
      },
      "outputs": [],
      "source": [
        "# <YOUR CODE HERE>\n",
        "print(f\"There are {} NaNs in coin_price\")\n",
        "\n",
        "# Calculate the % change from 0 (no change) in log scale\n",
        "coin_price['last_return'] = coin_price['last'].pct_change()\n",
        "coin_price['log_last_return'] = np.log(1 + coin_price['last_return'])\n",
        "\n",
        "# <YOUR CODE HERE>\n",
        "print(f\"After interpolation: {coin_price.isna().sum()} NaNs remaining\")"
      ]
    },
    {
      "cell_type": "markdown",
      "metadata": {
        "id": "2zPusw3t9fis"
      },
      "source": [
        "### EXTRA: Normalizing and plotting serial correlation\n",
        "Serial correlation is the relationship between a given variable and a lagged version of itself over various time intervals. In finance, this correlation is used by technical analysts to determine how well the past price of a security predicts the future price. Considering the `series` variable that we calculate below:\n",
        "\n",
        "* Plot the `log_last_return` using a `lag_plot` from the `pandas.plotting` library."
      ]
    },
    {
      "cell_type": "code",
      "execution_count": null,
      "metadata": {
        "id": "IwoP5bMarE2Y"
      },
      "outputs": [],
      "source": [
        "# coin_price = coin_price.interpolate() # ANSWER FROM ABOVE\n",
        "series = (coin_price[\"log_last_return\"] - coin_price[\"log_last_return\"].mean())\\\n",
        "  / (coin_price[\"log_last_return\"])"
      ]
    },
    {
      "cell_type": "code",
      "execution_count": null,
      "metadata": {
        "id": "2T6rVG5U-dOh"
      },
      "outputs": [],
      "source": [
        "pd.plotting.lag_plot(series)\n",
        "plt.show()\n"
      ]
    }
  ],
  "metadata": {
    "colab": {
      "provenance": []
    },
    "kernelspec": {
      "display_name": "Python 3",
      "language": "python",
      "name": "python3"
    },
    "language_info": {
      "codemirror_mode": {
        "name": "ipython",
        "version": 3
      },
      "file_extension": ".py",
      "mimetype": "text/x-python",
      "name": "python",
      "nbconvert_exporter": "python",
      "pygments_lexer": "ipython3",
      "version": "3.9.5"
    }
  },
  "nbformat": 4,
  "nbformat_minor": 0
}
